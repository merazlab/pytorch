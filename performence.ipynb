{
  "nbformat": 4,
  "nbformat_minor": 0,
  "metadata": {
    "colab": {
      "name": "performence.ipynb",
      "provenance": [],
      "collapsed_sections": [],
      "authorship_tag": "ABX9TyPsibdSEfV4uRgADMYkAif/",
      "include_colab_link": true
    },
    "kernelspec": {
      "name": "python3",
      "display_name": "Python 3"
    }
  },
  "cells": [
    {
      "cell_type": "markdown",
      "metadata": {
        "id": "view-in-github",
        "colab_type": "text"
      },
      "source": [
        "<a href=\"https://colab.research.google.com/github/merazlab/pytorch/blob/master/performence.ipynb\" target=\"_parent\"><img src=\"https://colab.research.google.com/assets/colab-badge.svg\" alt=\"Open In Colab\"/></a>"
      ]
    },
    {
      "cell_type": "code",
      "metadata": {
        "colab": {
          "base_uri": "https://localhost:8080/"
        },
        "id": "KVYlZaTiHx2q",
        "outputId": "be515a89-f674-41a0-b191-4e2c8b373a10"
      },
      "source": [
        "!pip install scikit-learn==0.24.1"
      ],
      "execution_count": 1,
      "outputs": [
        {
          "output_type": "stream",
          "text": [
            "Requirement already satisfied: scikit-learn==0.24.1 in /usr/local/lib/python3.6/dist-packages (0.24.1)\n",
            "Requirement already satisfied: scipy>=0.19.1 in /usr/local/lib/python3.6/dist-packages (from scikit-learn==0.24.1) (1.4.1)\n",
            "Requirement already satisfied: joblib>=0.11 in /usr/local/lib/python3.6/dist-packages (from scikit-learn==0.24.1) (1.0.0)\n",
            "Requirement already satisfied: numpy>=1.13.3 in /usr/local/lib/python3.6/dist-packages (from scikit-learn==0.24.1) (1.19.5)\n",
            "Requirement already satisfied: threadpoolctl>=2.0.0 in /usr/local/lib/python3.6/dist-packages (from scikit-learn==0.24.1) (2.1.0)\n"
          ],
          "name": "stdout"
        }
      ]
    },
    {
      "cell_type": "markdown",
      "metadata": {
        "id": "bMIQOu-TA54A"
      },
      "source": [
        "# Sklearn based network performence measure"
      ]
    },
    {
      "cell_type": "markdown",
      "metadata": {
        "id": "yNRrfrUrB7pH"
      },
      "source": [
        "[Reference](https://scikit-learn.org/stable/modules/model_evaluation.html#accuracy-score)"
      ]
    },
    {
      "cell_type": "markdown",
      "metadata": {
        "id": "QEgblIAkBL3w"
      },
      "source": [
        "## Accuracy\n"
      ]
    },
    {
      "cell_type": "code",
      "metadata": {
        "colab": {
          "base_uri": "https://localhost:8080/"
        },
        "id": "a_EdoMIy9-Kr",
        "outputId": "2b6aebd9-65bd-44c5-916b-842b95a0f6c6"
      },
      "source": [
        "from sklearn.metrics import accuracy_score\n",
        "y_pred = [0, 2, 1, 3]\n",
        "y_true = [0, 1, 2, 3]\n",
        "\n",
        "print(accuracy_score(y_true, y_pred))"
      ],
      "execution_count": 2,
      "outputs": [
        {
          "output_type": "stream",
          "text": [
            "0.5\n"
          ],
          "name": "stdout"
        }
      ]
    },
    {
      "cell_type": "code",
      "metadata": {
        "colab": {
          "base_uri": "https://localhost:8080/"
        },
        "id": "vuskoCwF_pYT",
        "outputId": "a4d17d1e-84ce-4754-f2e3-740d68a96776"
      },
      "source": [
        "accuracy_score(y_true, y_pred, normalize=False) #return no of correctly classifed samples"
      ],
      "execution_count": 3,
      "outputs": [
        {
          "output_type": "execute_result",
          "data": {
            "text/plain": [
              "2"
            ]
          },
          "metadata": {
            "tags": []
          },
          "execution_count": 3
        }
      ]
    },
    {
      "cell_type": "markdown",
      "metadata": {
        "id": "btosBSsPA259"
      },
      "source": [
        "In Multilabel Case"
      ]
    },
    {
      "cell_type": "code",
      "metadata": {
        "colab": {
          "base_uri": "https://localhost:8080/"
        },
        "id": "6X8V_wzM_1t3",
        "outputId": "962a7333-1d3a-4e48-948c-2356ddff76f6"
      },
      "source": [
        "import numpy as np\n",
        "accuracy_score(np.array([[0, 1], [1, 1]]), np.ones((2, 2)))\n"
      ],
      "execution_count": 4,
      "outputs": [
        {
          "output_type": "execute_result",
          "data": {
            "text/plain": [
              "0.5"
            ]
          },
          "metadata": {
            "tags": []
          },
          "execution_count": 4
        }
      ]
    },
    {
      "cell_type": "markdown",
      "metadata": {
        "id": "9AdyazElZFeg"
      },
      "source": [
        "Balanced accuracy score"
      ]
    },
    {
      "cell_type": "code",
      "metadata": {
        "colab": {
          "base_uri": "https://localhost:8080/"
        },
        "id": "AsQQv-EhZBjf",
        "outputId": "f9d76c9d-1d06-4f12-d7df-10e254292441"
      },
      "source": [
        "from sklearn.metrics import balanced_accuracy_score\n",
        "y_true = [0, 1, 0, 0, 1, 0]\n",
        "y_pred = [0, 1, 0, 0, 0, 1]\n",
        "balanced_accuracy_score(y_true, y_pred)\n"
      ],
      "execution_count": 21,
      "outputs": [
        {
          "output_type": "execute_result",
          "data": {
            "text/plain": [
              "0.625"
            ]
          },
          "metadata": {
            "tags": []
          },
          "execution_count": 21
        }
      ]
    },
    {
      "cell_type": "markdown",
      "metadata": {
        "id": "fsprPvQ_CTQ_"
      },
      "source": [
        "## Top K Accuracy"
      ]
    },
    {
      "cell_type": "markdown",
      "metadata": {
        "id": "YvEvr415IiI4"
      },
      "source": [
        "Only use in latest version on sckit-learn"
      ]
    },
    {
      "cell_type": "code",
      "metadata": {
        "colab": {
          "base_uri": "https://localhost:8080/"
        },
        "id": "3aVaviwJG0Uq",
        "outputId": "51c5d55c-61a6-4c71-a56a-cbf53f4ed6dc"
      },
      "source": [
        "!pip list |grep scikit"
      ],
      "execution_count": 9,
      "outputs": [
        {
          "output_type": "stream",
          "text": [
            "scikit-image                  0.16.2         \n",
            "scikit-learn                  0.22.2.post1   \n"
          ],
          "name": "stdout"
        }
      ]
    },
    {
      "cell_type": "code",
      "metadata": {
        "id": "2uJ3Sg8oGffC"
      },
      "source": [
        "from sklearn.metrics import top_k_accuracy_score\n",
        "# import sklearn.metrics.jaccard_score"
      ],
      "execution_count": 5,
      "outputs": []
    },
    {
      "cell_type": "code",
      "metadata": {
        "colab": {
          "base_uri": "https://localhost:8080/"
        },
        "id": "SSArFUm2AkUG",
        "outputId": "3d29015c-36e1-4a60-8e51-e40ae3388634"
      },
      "source": [
        "import numpy as np\n",
        "y_true = np.array([0, 1, 2, 2])\n",
        "y_score = np.array([[0.5, 0.2, 0.2],\n",
        "                    [0.3, 0.4, 0.2],\n",
        "                    [0.2, 0.4, 0.3],\n",
        "                    [0.7, 0.2, 0.1]])\n",
        "\n",
        "top_k_accuracy_score(y_true, y_score, k=2)"
      ],
      "execution_count": 6,
      "outputs": [
        {
          "output_type": "execute_result",
          "data": {
            "text/plain": [
              "0.75"
            ]
          },
          "metadata": {
            "tags": []
          },
          "execution_count": 6
        }
      ]
    },
    {
      "cell_type": "code",
      "metadata": {
        "colab": {
          "base_uri": "https://localhost:8080/"
        },
        "id": "EEVziDkkJGC8",
        "outputId": "1afdf248-d576-4579-b0d6-b1face3cacb3"
      },
      "source": [
        "# k =1 genralised case of top k accuracy-> accuracy\n",
        "top_k_accuracy_score(y_true, y_score, k=1)"
      ],
      "execution_count": 8,
      "outputs": [
        {
          "output_type": "execute_result",
          "data": {
            "text/plain": [
              "0.5"
            ]
          },
          "metadata": {
            "tags": []
          },
          "execution_count": 8
        }
      ]
    },
    {
      "cell_type": "code",
      "metadata": {
        "id": "HheXc6esCiGj",
        "colab": {
          "base_uri": "https://localhost:8080/"
        },
        "outputId": "d2e9ec20-da29-4e79-d227-35d05140fc21"
      },
      "source": [
        "# Not normalizing gives the number of \"correctly\" classified samples\n",
        "top_k_accuracy_score(y_true, y_score, k=2, normalize=False)"
      ],
      "execution_count": 9,
      "outputs": [
        {
          "output_type": "execute_result",
          "data": {
            "text/plain": [
              "3"
            ]
          },
          "metadata": {
            "tags": []
          },
          "execution_count": 9
        }
      ]
    },
    {
      "cell_type": "markdown",
      "metadata": {
        "id": "iapMIFcTJye-"
      },
      "source": [
        "## Confusion matrices\n",
        "\n",
        "[Ref](http://rasbt.github.io/mlxtend/user_guide/plotting/plot_confusion_matrix/)"
      ]
    },
    {
      "cell_type": "code",
      "metadata": {
        "colab": {
          "base_uri": "https://localhost:8080/"
        },
        "id": "PZsN_-sdJAFT",
        "outputId": "7dc4f7fb-a353-4852-a8f1-2d7ac832a766"
      },
      "source": [
        "from sklearn.metrics import confusion_matrix\n",
        "y_true = [2, 0, 2, 2, 0, 1]\n",
        "y_pred = [0, 0, 2, 2, 0, 2]\n",
        "confusion_matrix(y_true, y_pred)"
      ],
      "execution_count": 10,
      "outputs": [
        {
          "output_type": "execute_result",
          "data": {
            "text/plain": [
              "array([[2, 0, 0],\n",
              "       [0, 0, 1],\n",
              "       [1, 0, 2]])"
            ]
          },
          "metadata": {
            "tags": []
          },
          "execution_count": 10
        }
      ]
    },
    {
      "cell_type": "code",
      "metadata": {
        "colab": {
          "base_uri": "https://localhost:8080/",
          "height": 128
        },
        "id": "7pXWDhU3J127",
        "outputId": "4f5d1ccc-25e7-4da0-eb24-e0aa57e902ef"
      },
      "source": [
        "from matplotlib.pyplot as plt\n",
        "cm = confusion_matrix(y_true, y_pred)\n",
        "plt.imshow(cm, cmap='binary')\n"
      ],
      "execution_count": 12,
      "outputs": [
        {
          "output_type": "error",
          "ename": "SyntaxError",
          "evalue": "ignored",
          "traceback": [
            "\u001b[0;36m  File \u001b[0;32m\"<ipython-input-12-4436d3e22271>\"\u001b[0;36m, line \u001b[0;32m1\u001b[0m\n\u001b[0;31m    from matplotlib.pyplot as plt\u001b[0m\n\u001b[0m                            ^\u001b[0m\n\u001b[0;31mSyntaxError\u001b[0m\u001b[0;31m:\u001b[0m invalid syntax\n"
          ]
        }
      ]
    },
    {
      "cell_type": "code",
      "metadata": {
        "colab": {
          "base_uri": "https://localhost:8080/",
          "height": 279
        },
        "id": "yReYqI52OUjU",
        "outputId": "4aea76a3-a81a-42b0-c2a5-dfb43c734a51"
      },
      "source": [
        "from mlxtend.plotting import plot_confusion_matrix\n",
        "import matplotlib.pyplot as plt\n",
        "import numpy as np\n",
        "\n",
        "binary1 = np.array([[4, 1],\n",
        "                   [1, 2]])\n",
        "\n",
        "fig, ax = plot_confusion_matrix(conf_mat=binary1)\n",
        "plt.show()"
      ],
      "execution_count": 13,
      "outputs": [
        {
          "output_type": "display_data",
          "data": {
            "image/png": "[encoded data removed]",
            "text/plain": [
              "<Figure size 432x288 with 1 Axes>"
            ]
          },
          "metadata": {
            "tags": [],
            "needs_background": "light"
          }
        }
      ]
    },
    {
      "cell_type": "code",
      "metadata": {
        "colab": {
          "base_uri": "https://localhost:8080/",
          "height": 283
        },
        "id": "P7o4nDEtOpNs",
        "outputId": "68d0deea-2e13-4777-cd3c-ae98ff871866"
      },
      "source": [
        "binary = np.array([[4, 1],\n",
        "                   [1, 2]])\n",
        "\n",
        "fig, ax = plot_confusion_matrix(conf_mat=binary,\n",
        "                                show_absolute=True,\n",
        "                                show_normed=True,\n",
        "                                colorbar=True)\n",
        "plt.show()"
      ],
      "execution_count": 14,
      "outputs": [
        {
          "output_type": "display_data",
          "data": {
            "image/png": "[encoded data removed]",
            "text/plain": [
              "<Figure size 432x288 with 2 Axes>"
            ]
          },
          "metadata": {
            "tags": [],
            "needs_background": "light"
          }
        }
      ]
    },
    {
      "cell_type": "markdown",
      "metadata": {
        "id": "IZIuUDo7PTGc"
      },
      "source": [
        "Multi Class confusion matrices"
      ]
    },
    {
      "cell_type": "code",
      "metadata": {
        "colab": {
          "base_uri": "https://localhost:8080/",
          "height": 283
        },
        "id": "_erm-JkLPSeZ",
        "outputId": "06a50233-5e49-4913-fe2e-1184fad30d5e"
      },
      "source": [
        "from mlxtend.plotting import plot_confusion_matrix\n",
        "import matplotlib.pyplot as plt\n",
        "import numpy as np\n",
        "\n",
        "multiclass = np.array([[2, 1, 0, 0],\n",
        "                       [1, 2, 0, 0],\n",
        "                       [0, 0, 1, 0],\n",
        "                       [0, 0, 0, 1]])\n",
        "\n",
        "fig, ax = plot_confusion_matrix(conf_mat=multiclass,\n",
        "                                colorbar=True,\n",
        "                                show_absolute=False,\n",
        "                                show_normed=True)\n",
        "plt.show()"
      ],
      "execution_count": 15,
      "outputs": [
        {
          "output_type": "display_data",
          "data": {
            "image/png": "[encoded data removed]",
            "text/plain": [
              "<Figure size 432x288 with 2 Axes>"
            ]
          },
          "metadata": {
            "tags": [],
            "needs_background": "light"
          }
        }
      ]
    },
    {
      "cell_type": "code",
      "metadata": {
        "colab": {
          "base_uri": "https://localhost:8080/",
          "height": 283
        },
        "id": "hbR6jQB6PFdf",
        "outputId": "4333d36b-e9de-4e1b-dd9e-c9f7286911a2"
      },
      "source": [
        "multiclass = np.array([[2, 1, 0, 0],\n",
        "                       [1, 2, 0, 0],\n",
        "                       [0, 0, 1, 0],\n",
        "                       [0, 0, 0, 1]])\n",
        "\n",
        "class_names = ['class a', 'class b', 'class c', 'class d']\n",
        "\n",
        "fig, ax = plot_confusion_matrix(conf_mat=multiclass,\n",
        "                                colorbar=True,\n",
        "                                show_absolute=False,\n",
        "                                show_normed=True)\n",
        "plt.show()\n"
      ],
      "execution_count": 19,
      "outputs": [
        {
          "output_type": "display_data",
          "data": {
            "image/png": "[encoded data removed]",
            "text/plain": [
              "<Figure size 432x288 with 2 Axes>"
            ]
          },
          "metadata": {
            "tags": [],
            "needs_background": "light"
          }
        }
      ]
    },
    {
      "cell_type": "markdown",
      "metadata": {
        "id": "EJaBDo_dSTOt"
      },
      "source": [
        "## Classification report\n"
      ]
    },
    {
      "cell_type": "code",
      "metadata": {
        "colab": {
          "base_uri": "https://localhost:8080/"
        },
        "id": "eczwbU2rPqZQ",
        "outputId": "700f6737-0b93-48f5-9da8-d91688cd8776"
      },
      "source": [
        "from sklearn.metrics import classification_report\n",
        "y_true = [0, 1, 2, 2, 0]\n",
        "y_pred = [0, 0, 2, 1, 0]\n",
        "target_names = ['class 0', 'class 1', 'class 2']\n",
        "print(classification_report(y_true, y_pred, target_names=target_names))"
      ],
      "execution_count": 20,
      "outputs": [
        {
          "output_type": "stream",
          "text": [
            "              precision    recall  f1-score   support\n",
            "\n",
            "     class 0       0.67      1.00      0.80         2\n",
            "     class 1       0.00      0.00      0.00         1\n",
            "     class 2       1.00      0.50      0.67         2\n",
            "\n",
            "    accuracy                           0.60         5\n",
            "   macro avg       0.56      0.50      0.49         5\n",
            "weighted avg       0.67      0.60      0.59         5\n",
            "\n"
          ],
          "name": "stdout"
        }
      ]
    },
    {
      "cell_type": "code",
      "metadata": {
        "id": "i9WwFD3GSYOC"
      },
      "source": [
        ""
      ],
      "execution_count": null,
      "outputs": []
    }
  ]
}