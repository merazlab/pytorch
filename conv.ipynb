{
  "nbformat": 4,
  "nbformat_minor": 0,
  "metadata": {
    "colab": {
      "name": "Untitled34.ipynb",
      "provenance": [],
      "authorship_tag": "ABX9TyN7GNWPhm/wq7f5JyDmM5uF",
      "include_colab_link": true
    },
    "kernelspec": {
      "name": "python3",
      "display_name": "Python 3"
    }
  },
  "cells": [
    {
      "cell_type": "markdown",
      "metadata": {
        "id": "view-in-github",
        "colab_type": "text"
      },
      "source": [
        "<a href=\"https://colab.research.google.com/github/merazlab/pytorch/blob/master/conv.ipynb\" target=\"_parent\"><img src=\"https://colab.research.google.com/assets/colab-badge.svg\" alt=\"Open In Colab\"/></a>"
      ]
    },
    {
      "cell_type": "code",
      "metadata": {
        "id": "4zdK8ZK18Cnd"
      },
      "source": [
        "import torch\n",
        "import torch.nn as nn\n",
        "import numpy as np\n"
      ],
      "execution_count": 1,
      "outputs": []
    },
    {
      "cell_type": "code",
      "metadata": {
        "colab": {
          "base_uri": "https://localhost:8080/"
        },
        "id": "3vCRGKsR8F4k",
        "outputId": "6a6b2541-7f2f-4ea4-c12a-c0dad7db57f2"
      },
      "source": [
        "print(torch.__version__)\n"
      ],
      "execution_count": 2,
      "outputs": [
        {
          "output_type": "stream",
          "text": [
            "1.7.0+cu101\n"
          ],
          "name": "stdout"
        }
      ]
    },
    {
      "cell_type": "code",
      "metadata": {
        "id": "9JsAuS5z8JYI"
      },
      "source": [
        "input_1d = torch.tensor([1, 2, 3, 4, 5, 6, 7, 8, 9, 10], dtype = torch.float)\n",
        "input_2d = torch.tensor([[1, 2, 3, 4, 5], [6, 7, 8, 9, 10]], dtype = torch.float)\n",
        "input_2d_img = torch.tensor([[[1, 2, 3, 4, 5, 6, 7, 8, 9, 10], [1, 2, 3, 4, 5, 6, 7, 8, 9, 10], [1, 2, 3, 4, 5, 6, 7, 8, 9, 10]], [[1, 2, 3, 4, 5, 6, 7, 8, 9, 10], [1, 2, 3, 4, 5, 6, 7, 8, 9, 10], [1, 2, 3, 4, 5, 6, 7, 8, 9, 10]], [[1, 2, 3, 4, 5, 6, 7, 8, 9, 10], [1, 2, 3, 4, 5, 6, 7, 8, 9, 10], [1, 2, 3, 4, 5, 6, 7, 8, 9, 10]]], dtype = torch.float)"
      ],
      "execution_count": 11,
      "outputs": []
    },
    {
      "cell_type": "code",
      "metadata": {
        "colab": {
          "base_uri": "https://localhost:8080/"
        },
        "id": "GQRjuBra8lMW",
        "outputId": "7f09c796-4674-49d1-dd25-ceaf8759a3c6"
      },
      "source": [
        "input_1d = input_1d.unsqueeze(0).unsqueeze(0)\n",
        "input_1d.shape\n"
      ],
      "execution_count": 12,
      "outputs": [
        {
          "output_type": "execute_result",
          "data": {
            "text/plain": [
              "torch.Size([1, 1, 10])"
            ]
          },
          "metadata": {
            "tags": []
          },
          "execution_count": 12
        }
      ]
    },
    {
      "cell_type": "markdown",
      "metadata": {
        "id": "QzR3xc5rU17h"
      },
      "source": [
        "# 1D_Conv"
      ]
    },
    {
      "cell_type": "markdown",
      "metadata": {
        "id": "nr1HKAlhYrNs"
      },
      "source": [
        "nn.Conv1d() applies 1D convolution over the input. nn.Conv1d() expects the \n",
        "\n",
        " input to be of the shape ` [batch_size, input_channels, signal_length] `"
      ]
    },
    {
      "cell_type": "markdown",
      "metadata": {
        "id": "iNoW7edqU7rH"
      },
      "source": [
        "## 1D_Conv_1D_Signal"
      ]
    },
    {
      "cell_type": "code",
      "metadata": {
        "colab": {
          "base_uri": "https://localhost:8080/"
        },
        "id": "1KyPY_em9hQQ",
        "outputId": "23de031c-9ed0-4e61-d790-0b1950b3d99e"
      },
      "source": [
        "cnn1d_1 = nn.Conv1d(in_channels=1, out_channels=1, kernel_size=3, stride=1)\n",
        "print(cnn1d_1.weight)\n",
        "print(cnn1d_1(input_1d).shape, \"\\n\")\n",
        "print(cnn1d_1(input_1d))"
      ],
      "execution_count": 14,
      "outputs": [
        {
          "output_type": "stream",
          "text": [
            "Parameter containing:\n",
            "tensor([[[ 0.0509,  0.0901, -0.2756]]], requires_grad=True)\n",
            "torch.Size([1, 1, 8]) \n",
            "\n",
            "tensor([[[-0.4782, -0.6129, -0.7475, -0.8821, -1.0167, -1.1513, -1.2860,\n",
            "          -1.4206]]], grad_fn=<SqueezeBackward1>)\n"
          ],
          "name": "stdout"
        }
      ]
    },
    {
      "cell_type": "code",
      "metadata": {
        "colab": {
          "base_uri": "https://localhost:8080/"
        },
        "id": "ptVPxHPB9vTN",
        "outputId": "d8f833ef-a623-4ddb-df66-7a0f43b707b6"
      },
      "source": [
        "cnn1d_1 = nn.Conv1d(in_channels=1, out_channels=1, kernel_size=3, stride=2)\n",
        "print(cnn1d_1.weight)\n",
        "print(cnn1d_1(input_1d).shape, \"\\n\")\n",
        "print(cnn1d_1(input_1d))"
      ],
      "execution_count": 15,
      "outputs": [
        {
          "output_type": "stream",
          "text": [
            "Parameter containing:\n",
            "tensor([[[ 0.3151,  0.3011, -0.0425]]], requires_grad=True)\n",
            "torch.Size([1, 1, 4]) \n",
            "\n",
            "tensor([[[0.9016, 2.0490, 3.1964, 4.3438]]], grad_fn=<SqueezeBackward1>)\n"
          ],
          "name": "stdout"
        }
      ]
    },
    {
      "cell_type": "code",
      "metadata": {
        "colab": {
          "base_uri": "https://localhost:8080/"
        },
        "id": "Y_6mQ13LHEmP",
        "outputId": "8b66ae0d-465d-485d-9680-3e980eb5d027"
      },
      "source": [
        "cnn1d_1 = nn.Conv1d(in_channels=1, out_channels=5, kernel_size=3, stride=1)\n",
        "print(cnn1d_1.weight)\n",
        "print(cnn1d_1(input_1d).shape, \"\\n\")\n",
        "print(cnn1d_1(input_1d))"
      ],
      "execution_count": 16,
      "outputs": [
        {
          "output_type": "stream",
          "text": [
            "Parameter containing:\n",
            "tensor([[[-0.0654,  0.4991,  0.4264]],\n",
            "\n",
            "        [[ 0.5160, -0.2211, -0.4868]],\n",
            "\n",
            "        [[ 0.2075,  0.3568,  0.5247]],\n",
            "\n",
            "        [[-0.3352,  0.1799,  0.1520]],\n",
            "\n",
            "        [[ 0.1411, -0.4305, -0.0362]]], requires_grad=True)\n",
            "torch.Size([1, 5, 8]) \n",
            "\n",
            "tensor([[[ 1.8545,  2.7146,  3.5747,  4.4348,  5.2948,  6.1549,  7.0150,\n",
            "           7.8751],\n",
            "         [-1.9290, -2.1210, -2.3129, -2.5049, -2.6968, -2.8887, -3.0807,\n",
            "          -3.2726],\n",
            "         [ 1.9199,  3.0089,  4.0979,  5.1869,  6.2759,  7.3649,  8.4539,\n",
            "           9.5429],\n",
            "         [ 1.0072,  1.0039,  1.0006,  0.9974,  0.9941,  0.9908,  0.9875,\n",
            "           0.9843],\n",
            "         [-0.4015, -0.7271, -1.0527, -1.3784, -1.7040, -2.0296, -2.3552,\n",
            "          -2.6809]]], grad_fn=<SqueezeBackward1>)\n"
          ],
          "name": "stdout"
        }
      ]
    },
    {
      "cell_type": "markdown",
      "metadata": {
        "id": "8XZFJjQwPE1-"
      },
      "source": [
        "## 1D_Conv_2D_signal\n"
      ]
    },
    {
      "cell_type": "code",
      "metadata": {
        "colab": {
          "base_uri": "https://localhost:8080/"
        },
        "id": "03znrtwpH2so",
        "outputId": "b4b346de-8965-4a88-921a-db822c1d1d57"
      },
      "source": [
        "input_2d = input_2d.unsqueeze(0)\n",
        "input_2d.shape"
      ],
      "execution_count": 17,
      "outputs": [
        {
          "output_type": "execute_result",
          "data": {
            "text/plain": [
              "torch.Size([1, 2, 5])"
            ]
          },
          "metadata": {
            "tags": []
          },
          "execution_count": 17
        }
      ]
    },
    {
      "cell_type": "code",
      "metadata": {
        "colab": {
          "base_uri": "https://localhost:8080/"
        },
        "id": "Ile7KjHdIFlh",
        "outputId": "51ff6e2f-b1c3-474e-a97a-d3138f8a5488"
      },
      "source": [
        "input_2d"
      ],
      "execution_count": 18,
      "outputs": [
        {
          "output_type": "execute_result",
          "data": {
            "text/plain": [
              "tensor([[[ 1.,  2.,  3.,  4.,  5.],\n",
              "         [ 6.,  7.,  8.,  9., 10.]]])"
            ]
          },
          "metadata": {
            "tags": []
          },
          "execution_count": 18
        }
      ]
    },
    {
      "cell_type": "code",
      "metadata": {
        "colab": {
          "base_uri": "https://localhost:8080/"
        },
        "id": "TtxVhN18IIZL",
        "outputId": "244d5c8d-f010-44bd-9c2d-b3c9057eae2e"
      },
      "source": [
        "cnn1d_5 = nn.Conv1d(in_channels=2, out_channels=1, kernel_size=3, stride=1)\n",
        "print(cnn1d_5.weight)\n",
        "print(cnn1d_5(input_2d).shape, \"\\n\")\n",
        "print(cnn1d_5(input_2d))"
      ],
      "execution_count": 19,
      "outputs": [
        {
          "output_type": "stream",
          "text": [
            "Parameter containing:\n",
            "tensor([[[-0.2062,  0.0005, -0.3756],\n",
            "         [ 0.1928,  0.1047,  0.0198]]], requires_grad=True)\n",
            "torch.Size([1, 1, 3]) \n",
            "\n",
            "tensor([[[ 0.4046,  0.1407, -0.1233]]], grad_fn=<SqueezeBackward1>)\n"
          ],
          "name": "stdout"
        }
      ]
    },
    {
      "cell_type": "code",
      "metadata": {
        "colab": {
          "base_uri": "https://localhost:8080/"
        },
        "id": "LiIuLhhAP03E",
        "outputId": "b6aa0ebe-583b-40a0-a469-aeffb5513112"
      },
      "source": [
        "cnn1d_5 = nn.Conv1d(in_channels=2, out_channels=5, kernel_size=3, stride=1)\n",
        "print(cnn1d_5.weight)\n",
        "print(cnn1d_5(input_2d).shape, \"\\n\")\n",
        "print(cnn1d_5(input_2d))"
      ],
      "execution_count": 22,
      "outputs": [
        {
          "output_type": "stream",
          "text": [
            "Parameter containing:\n",
            "tensor([[[-0.2145, -0.0506,  0.1776],\n",
            "         [-0.0154, -0.2767,  0.1374]],\n",
            "\n",
            "        [[-0.2318,  0.1197,  0.4051],\n",
            "         [-0.3108, -0.2018,  0.2985]],\n",
            "\n",
            "        [[-0.2883, -0.1855,  0.3288],\n",
            "         [ 0.3725, -0.0675, -0.0171]],\n",
            "\n",
            "        [[-0.2086, -0.3898,  0.0302],\n",
            "         [-0.2146, -0.3973, -0.2139]],\n",
            "\n",
            "        [[ 0.0872, -0.0602, -0.2913],\n",
            "         [-0.3415, -0.0425,  0.1098]]], requires_grad=True)\n",
            "torch.Size([1, 5, 3]) \n",
            "\n",
            "tensor([[[-0.6581, -0.9002, -1.1423],\n",
            "         [ 0.4314,  0.5103,  0.5893],\n",
            "         [ 1.9634,  2.1064,  2.2493],\n",
            "         [-6.9810, -8.3751, -9.7692],\n",
            "         [-2.7112, -3.2498, -3.7883]]], grad_fn=<SqueezeBackward1>)\n"
          ],
          "name": "stdout"
        }
      ]
    },
    {
      "cell_type": "markdown",
      "metadata": {
        "id": "HyShgbo7Va0I"
      },
      "source": [
        "# 2D_Conv"
      ]
    },
    {
      "cell_type": "markdown",
      "metadata": {
        "id": "_7boEfZ2ZPV-"
      },
      "source": [
        "nn.Conv2d() applies 2D convolution over the input.\n",
        "\n",
        "`nn.Conv2d()` expects the input to be of the shape `[batch_size, input_channels, input_height, input_width] `"
      ]
    },
    {
      "cell_type": "markdown",
      "metadata": {
        "id": "SceLcEBLVjI4"
      },
      "source": [
        "## 2D_Conv_1D_signal"
      ]
    },
    {
      "cell_type": "code",
      "metadata": {
        "id": "jlDaSh3FV35b"
      },
      "source": [
        "input_1d = torch.tensor([1, 2, 3, 4, 5, 6, 7, 8, 9, 10], dtype = torch.float)\n"
      ],
      "execution_count": 24,
      "outputs": []
    },
    {
      "cell_type": "code",
      "metadata": {
        "colab": {
          "base_uri": "https://localhost:8080/"
        },
        "id": "SeihHCNJQpw3",
        "outputId": "0b42f72d-f396-4312-e2f0-6ef47517f964"
      },
      "source": [
        "input_1d = input_1d.unsqueeze(0).unsqueeze(0)\n",
        "input_1d.shape\n"
      ],
      "execution_count": 25,
      "outputs": [
        {
          "output_type": "execute_result",
          "data": {
            "text/plain": [
              "torch.Size([1, 1, 10])"
            ]
          },
          "metadata": {
            "tags": []
          },
          "execution_count": 25
        }
      ]
    },
    {
      "cell_type": "code",
      "metadata": {
        "colab": {
          "base_uri": "https://localhost:8080/"
        },
        "id": "7C5aqxh9VzgS",
        "outputId": "dee24fd5-6088-4c87-ef09-b6379632e9b0"
      },
      "source": [
        "cnn2d_1 = nn.Conv2d(in_channels=1, out_channels=1, kernel_size=3, stride=1)\n",
        "print(cnn2d_1.weight)\n"
      ],
      "execution_count": 27,
      "outputs": [
        {
          "output_type": "stream",
          "text": [
            "Parameter containing:\n",
            "tensor([[[[-0.1302,  0.3228,  0.2812],\n",
            "          [ 0.0621, -0.0121,  0.2955],\n",
            "          [ 0.2245,  0.1087,  0.1523]]]], requires_grad=True)\n"
          ],
          "name": "stdout"
        }
      ]
    },
    {
      "cell_type": "code",
      "metadata": {
        "id": "9EK2YdaNWNub"
      },
      "source": [
        "# print(cnn2d_1(input_1d).shape, \"\\n\") #Convolution not perform because kernel size mismatch\n",
        "# print(cnn2d_1(input_1d))"
      ],
      "execution_count": 29,
      "outputs": []
    },
    {
      "cell_type": "markdown",
      "metadata": {
        "id": "F5Flv_7HaMLj"
      },
      "source": [
        "## 2D_Conv_2D_Signal"
      ]
    },
    {
      "cell_type": "code",
      "metadata": {
        "id": "_s0EVBwzaeHP"
      },
      "source": [
        "input_2d = torch.tensor([[1, 2, 3, 4, 5], [6, 7, 8, 9, 10]], dtype = torch.float)\n"
      ],
      "execution_count": 34,
      "outputs": []
    },
    {
      "cell_type": "code",
      "metadata": {
        "colab": {
          "base_uri": "https://localhost:8080/"
        },
        "id": "HP-KXTuValwF",
        "outputId": "a34777a2-5952-41c0-d724-2643c03b89b0"
      },
      "source": [
        "input_2d = input_2d.unsqueeze(0).unsqueeze(0)\n",
        "input_2d.shape"
      ],
      "execution_count": 35,
      "outputs": [
        {
          "output_type": "execute_result",
          "data": {
            "text/plain": [
              "torch.Size([1, 1, 2, 5])"
            ]
          },
          "metadata": {
            "tags": []
          },
          "execution_count": 35
        }
      ]
    },
    {
      "cell_type": "code",
      "metadata": {
        "colab": {
          "base_uri": "https://localhost:8080/"
        },
        "id": "_gT_Zf1BWyMm",
        "outputId": "ef808ae5-2ebb-459f-ae48-6d77dc0563f4"
      },
      "source": [
        "cnn2d_1 = nn.Conv2d(in_channels=1, out_channels=1, kernel_size=2, stride=1)\n",
        "print(cnn2d_1.weight)"
      ],
      "execution_count": 40,
      "outputs": [
        {
          "output_type": "stream",
          "text": [
            "Parameter containing:\n",
            "tensor([[[[-0.1745, -0.0526],\n",
            "          [ 0.2039,  0.4038]]]], requires_grad=True)\n"
          ],
          "name": "stdout"
        }
      ]
    },
    {
      "cell_type": "code",
      "metadata": {
        "colab": {
          "base_uri": "https://localhost:8080/"
        },
        "id": "0GTC-xYFXRK3",
        "outputId": "69645f0f-5769-45f6-dbb6-4b76495f24d9"
      },
      "source": [
        "print(cnn2d_1(input_2d).shape, \"\\n\")\n",
        "print(cnn2d_1(input_2d))"
      ],
      "execution_count": 41,
      "outputs": [
        {
          "output_type": "stream",
          "text": [
            "torch.Size([1, 1, 1, 4]) \n",
            "\n",
            "tensor([[[[3.5396, 3.9201, 4.3006, 4.6810]]]], grad_fn=<ThnnConv2DBackward>)\n"
          ],
          "name": "stdout"
        }
      ]
    },
    {
      "cell_type": "markdown",
      "metadata": {
        "id": "7sumDpeQb75y"
      },
      "source": [
        "### kernel size `[1, 2]`"
      ]
    },
    {
      "cell_type": "code",
      "metadata": {
        "colab": {
          "base_uri": "https://localhost:8080/"
        },
        "id": "S9KFqG3lXWHh",
        "outputId": "b67f4afe-26f7-4c3b-8149-474172bec7f3"
      },
      "source": [
        "cnn2d_1 = nn.Conv2d(in_channels=1, out_channels=1, kernel_size=(1, 2), stride=1)\n",
        "print(cnn2d_1.weight)"
      ],
      "execution_count": 42,
      "outputs": [
        {
          "output_type": "stream",
          "text": [
            "Parameter containing:\n",
            "tensor([[[[-0.0626,  0.5710]]]], requires_grad=True)\n"
          ],
          "name": "stdout"
        }
      ]
    },
    {
      "cell_type": "code",
      "metadata": {
        "colab": {
          "base_uri": "https://localhost:8080/"
        },
        "id": "jzVI9az8cPRY",
        "outputId": "8131d1c3-497c-4108-a3e4-5410d8eabc8f"
      },
      "source": [
        "print(cnn2d_1(input_2d).shape, \"\\n\")\n",
        "print(cnn2d_1(input_2d))"
      ],
      "execution_count": 43,
      "outputs": [
        {
          "output_type": "stream",
          "text": [
            "torch.Size([1, 1, 2, 4]) \n",
            "\n",
            "tensor([[[[0.3741, 0.8825, 1.3909, 1.8993],\n",
            "          [2.9161, 3.4245, 3.9328, 4.4412]]]], grad_fn=<ThnnConv2DBackward>)\n"
          ],
          "name": "stdout"
        }
      ]
    },
    {
      "cell_type": "markdown",
      "metadata": {
        "id": "Qg8LGHKidN4q"
      },
      "source": [
        "## 2D_Conv_3D_Signal"
      ]
    },
    {
      "cell_type": "code",
      "metadata": {
        "id": "2BVR1qLZcX_Q"
      },
      "source": [
        "input_2d_img = torch.tensor([[[1, 2, 3, 4, 5, 6, 7, 8, 9, 10], [1, 2, 3, 4, 5, 6, 7, 8, 9, 10], [1, 2, 3, 4, 5, 6, 7, 8, 9, 10]], [[1, 2, 3, 4, 5, 6, 7, 8, 9, 10], [1, 2, 3, 4, 5, 6, 7, 8, 9, 10], [1, 2, 3, 4, 5, 6, 7, 8, 9, 10]], [[1, 2, 3, 4, 5, 6, 7, 8, 9, 10], [1, 2, 3, 4, 5, 6, 7, 8, 9, 10], [1, 2, 3, 4, 5, 6, 7, 8, 9, 10]]], dtype = torch.float)"
      ],
      "execution_count": 48,
      "outputs": []
    },
    {
      "cell_type": "code",
      "metadata": {
        "colab": {
          "base_uri": "https://localhost:8080/"
        },
        "id": "sEzdpP5cdgfI",
        "outputId": "543b8cb1-5881-4921-d0ef-39bd98009742"
      },
      "source": [
        "input_2d_img = input_2d_img.unsqueeze(0)\n",
        "input_2d_img.shape"
      ],
      "execution_count": 50,
      "outputs": [
        {
          "output_type": "execute_result",
          "data": {
            "text/plain": [
              "torch.Size([1, 3, 3, 10])"
            ]
          },
          "metadata": {
            "tags": []
          },
          "execution_count": 50
        }
      ]
    },
    {
      "cell_type": "code",
      "metadata": {
        "id": "l-qTZYbNdpiY"
      },
      "source": [
        ""
      ],
      "execution_count": null,
      "outputs": []
    }
  ]
}