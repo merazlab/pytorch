{
  "nbformat": 4,
  "nbformat_minor": 0,
  "metadata": {
    "colab": {
      "name": "tqdm.ipynb",
      "provenance": [],
      "collapsed_sections": [],
      "authorship_tag": "ABX9TyOdFWtNrTUmlCvsefgFpjay",
      "include_colab_link": true
    },
    "kernelspec": {
      "name": "python3",
      "display_name": "Python 3"
    }
  },
  "cells": [
    {
      "cell_type": "markdown",
      "metadata": {
        "id": "view-in-github",
        "colab_type": "text"
      },
      "source": [
        "<a href=\"https://colab.research.google.com/github/merazlab/pytorch/blob/master/tqdm.ipynb\" target=\"_parent\"><img src=\"https://colab.research.google.com/assets/colab-badge.svg\" alt=\"Open In Colab\"/></a>"
      ]
    },
    {
      "cell_type": "code",
      "metadata": {
        "id": "DyqvlnQeAccd",
        "colab_type": "code",
        "colab": {
          "base_uri": "https://localhost:8080/",
          "height": 34
        },
        "outputId": "406de3ce-c407-48ad-ec2f-ab021373fd99"
      },
      "source": [
        "from tqdm import tqdm       # <-- yes\n",
        "from time import sleep\n",
        "for i in tqdm(range(100)):  # <-- magic\n",
        "    sleep(0.01)"
      ],
      "execution_count": 3,
      "outputs": [
        {
          "output_type": "stream",
          "text": [
            "100%|██████████| 100/100 [00:01<00:00, 97.68it/s]\n"
          ],
          "name": "stderr"
        }
      ]
    },
    {
      "cell_type": "code",
      "metadata": {
        "id": "yF24NhT2cWVO",
        "colab_type": "code",
        "colab": {
          "base_uri": "https://localhost:8080/",
          "height": 34
        },
        "outputId": "852f3921-00f9-48e6-82ac-90eb8e52a0ec"
      },
      "source": [
        "from tqdm import trange\n",
        "from time import sleep\n",
        "for i in trange(100):\n",
        "    sleep(0.01)"
      ],
      "execution_count": 4,
      "outputs": [
        {
          "output_type": "stream",
          "text": [
            "100%|██████████| 100/100 [00:01<00:00, 97.97it/s]\n"
          ],
          "name": "stderr"
        }
      ]
    },
    {
      "cell_type": "code",
      "metadata": {
        "id": "JX1IFPC2c7wU",
        "colab_type": "code",
        "colab": {
          "base_uri": "https://localhost:8080/",
          "height": 34
        },
        "outputId": "07b46d22-9d10-457d-e537-357160bd7731"
      },
      "source": [
        "from tqdm import trange\n",
        "from time import sleep\n",
        "for i in trange(100, desc=\"hello\"):\n",
        "    sleep(0.01)"
      ],
      "execution_count": 5,
      "outputs": [
        {
          "output_type": "stream",
          "text": [
            "hello: 100%|██████████| 100/100 [00:01<00:00, 97.60it/s]\n"
          ],
          "name": "stderr"
        }
      ]
    },
    {
      "cell_type": "code",
      "metadata": {
        "id": "1h1rdy2gDvbo",
        "colab_type": "code",
        "colab": {
          "base_uri": "https://localhost:8080/",
          "height": 34
        },
        "outputId": "5bc74edf-dc3b-401f-9283-069aa22dd7e1"
      },
      "source": [
        "from tqdm import trange\n",
        "from time import sleep\n",
        "for i in trange(100, desc=\"hello\", unit=\"epoch\"):\n",
        "    sleep(0.01)"
      ],
      "execution_count": 6,
      "outputs": [
        {
          "output_type": "stream",
          "text": [
            "hello: 100%|██████████| 100/100 [00:01<00:00, 97.23epoch/s]\n"
          ],
          "name": "stderr"
        }
      ]
    },
    {
      "cell_type": "markdown",
      "metadata": {
        "id": "fdx81ZpUEKPh",
        "colab_type": "text"
      },
      "source": [
        "Documentation"
      ]
    },
    {
      "cell_type": "code",
      "metadata": {
        "id": "lZmbpBzMDy3j",
        "colab_type": "code",
        "colab": {
          "base_uri": "https://localhost:8080/",
          "height": 34
        },
        "outputId": "2418eeb0-e08c-4cab-a6a3-04e2f58ed48f"
      },
      "source": [
        "from tqdm import trange\n",
        "from random import random, randint\n",
        "from time import sleep\n",
        "\n",
        "with trange(10) as t:\n",
        "    for i in t:\n",
        "        t.set_description('GEN %i' % i)\n",
        "        # formatted automatically based on argument's datatype\n",
        "        t.set_postfix(loss=random(), gen=randint(1,999), str='h', lst=[1, 2])\n",
        "        sleep(0.1)"
      ],
      "execution_count": 21,
      "outputs": [
        {
          "output_type": "stream",
          "text": [
            "GEN 9: 100%|██████████| 10/10 [00:01<00:00,  9.65it/s, gen=414, loss=0.681, lst=[1, 2], str=h]\n"
          ],
          "name": "stderr"
        }
      ]
    },
    {
      "cell_type": "code",
      "metadata": {
        "id": "nf8-LJdkEMjC",
        "colab_type": "code",
        "colab": {
          "base_uri": "https://localhost:8080/",
          "height": 34
        },
        "outputId": "180d96be-44e8-44b1-9718-174715280664"
      },
      "source": [
        "text = \"\"\n",
        "for char in tqdm([\"a\", \"e\", \"i\", \"o\",\"u\"]):\n",
        "  sleep(0.25)\n",
        "  text = text + char"
      ],
      "execution_count": 20,
      "outputs": [
        {
          "output_type": "stream",
          "text": [
            "100%|██████████| 5/5 [00:01<00:00,  3.98it/s]\n"
          ],
          "name": "stderr"
        }
      ]
    },
    {
      "cell_type": "code",
      "metadata": {
        "id": "w-WsjKBjGETR",
        "colab_type": "code",
        "colab": {
          "base_uri": "https://localhost:8080/",
          "height": 34
        },
        "outputId": "69f2d9a8-d58a-4982-f6f7-415f54556f36"
      },
      "source": [
        "pbar = tqdm([\"a\", \"e\", \"i\", \"o\",\"u\"])"
      ],
      "execution_count": 10,
      "outputs": [
        {
          "output_type": "stream",
          "text": [
            "\r  0%|          | 0/5 [00:00<?, ?it/s]"
          ],
          "name": "stderr"
        }
      ]
    },
    {
      "cell_type": "code",
      "metadata": {
        "id": "BlawkqhWG2Lo",
        "colab_type": "code",
        "colab": {
          "base_uri": "https://localhost:8080/",
          "height": 34
        },
        "outputId": "67693c6e-7ab0-4202-92f4-982200cb04e0"
      },
      "source": [
        "for char in pbar:\n",
        "  sleep(0.25)\n",
        "  pbar.set_description(\"processing %s\" %char)"
      ],
      "execution_count": 11,
      "outputs": [
        {
          "output_type": "stream",
          "text": [
            "processing u: 100%|██████████| 5/5 [01:51<00:00, 22.31s/it]\n"
          ],
          "name": "stderr"
        }
      ]
    },
    {
      "cell_type": "markdown",
      "metadata": {
        "id": "O2RFLGi4HlGG",
        "colab_type": "text"
      },
      "source": [
        "manual Control tqdm update using with statement"
      ]
    },
    {
      "cell_type": "code",
      "metadata": {
        "id": "s9VJLcB3HRFj",
        "colab_type": "code",
        "colab": {
          "base_uri": "https://localhost:8080/",
          "height": 34
        },
        "outputId": "969395e0-37a0-4725-980c-b331504b14d3"
      },
      "source": [
        "with tqdm(total=100) as pbar:\n",
        "  for i in range(5):\n",
        "    sleep(0.25)\n",
        "    pbar.update(20)"
      ],
      "execution_count": 16,
      "outputs": [
        {
          "output_type": "stream",
          "text": [
            "100%|██████████| 100/100 [00:01<00:00, 79.57it/s]\n"
          ],
          "name": "stderr"
        }
      ]
    },
    {
      "cell_type": "code",
      "metadata": {
        "id": "cSNDnLqyIB5n",
        "colab_type": "code",
        "colab": {
          "base_uri": "https://localhost:8080/",
          "height": 34
        },
        "outputId": "a1df9cd5-045f-4dba-9494-9a09c2ce5dae"
      },
      "source": [
        "pbar =  tqdm(total=100)\n",
        "for i in range(5):\n",
        "  sleep(0.25)\n",
        "  pbar.update(20)\n",
        "pbar.close()"
      ],
      "execution_count": 17,
      "outputs": [
        {
          "output_type": "stream",
          "text": [
            "100%|██████████| 100/100 [00:01<00:00, 79.53it/s]\n"
          ],
          "name": "stderr"
        }
      ]
    },
    {
      "cell_type": "markdown",
      "metadata": {
        "id": "1H3OKZnHMrHm",
        "colab_type": "text"
      },
      "source": [
        "Nestedpbar"
      ]
    },
    {
      "cell_type": "code",
      "metadata": {
        "id": "XocAwDfdI6wX",
        "colab_type": "code",
        "colab": {
          "base_uri": "https://localhost:8080/",
          "height": 1000
        },
        "outputId": "b4a4dc36-ff74-4241-a140-1f9719e47ce1"
      },
      "source": [
        "from tqdm import trange\n",
        "from time import sleep\n",
        "\n",
        "for i in trange(4, desc='1st loop'):\n",
        "    for j in trange(5, desc='2nd loop'):\n",
        "        for k in trange(50, desc='3nd loop', leave=False):\n",
        "            sleep(0.01)"
      ],
      "execution_count": 22,
      "outputs": [
        {
          "output_type": "stream",
          "text": [
            "1st loop:   0%|          | 0/4 [00:00<?, ?it/s]\n",
            "2nd loop:   0%|          | 0/5 [00:00<?, ?it/s]\u001b[A\n",
            "\n",
            "3nd loop:   0%|          | 0/50 [00:00<?, ?it/s]\u001b[A\u001b[A\n",
            "\n",
            "3nd loop:  20%|██        | 10/50 [00:00<00:00, 98.80it/s]\u001b[A\u001b[A\n",
            "\n",
            "3nd loop:  40%|████      | 20/50 [00:00<00:00, 98.05it/s]\u001b[A\u001b[A\n",
            "\n",
            "3nd loop:  60%|██████    | 30/50 [00:00<00:00, 97.60it/s]\u001b[A\u001b[A\n",
            "\n",
            "3nd loop:  80%|████████  | 40/50 [00:00<00:00, 97.26it/s]\u001b[A\u001b[A\n",
            "\n",
            "3nd loop: 100%|██████████| 50/50 [00:00<00:00, 97.03it/s]\u001b[A\u001b[A\n",
            "\n",
            "                                                         \u001b[A\u001b[A\n",
            "2nd loop:  20%|██        | 1/5 [00:00<00:02,  1.88it/s]\u001b[A\n",
            "\n",
            "3nd loop:   0%|          | 0/50 [00:00<?, ?it/s]\u001b[A\u001b[A\n",
            "\n",
            "3nd loop:  20%|██        | 10/50 [00:00<00:00, 98.91it/s]\u001b[A\u001b[A\n",
            "\n",
            "3nd loop:  40%|████      | 20/50 [00:00<00:00, 97.66it/s]\u001b[A\u001b[A\n",
            "\n",
            "3nd loop:  60%|██████    | 30/50 [00:00<00:00, 97.00it/s]\u001b[A\u001b[A\n",
            "\n",
            "3nd loop:  80%|████████  | 40/50 [00:00<00:00, 96.81it/s]\u001b[A\u001b[A\n",
            "\n",
            "3nd loop: 100%|██████████| 50/50 [00:00<00:00, 96.69it/s]\u001b[A\u001b[A\n",
            "\n",
            "                                                         \u001b[A\u001b[A\n",
            "2nd loop:  40%|████      | 2/5 [00:01<00:01,  1.88it/s]\u001b[A\n",
            "\n",
            "3nd loop:   0%|          | 0/50 [00:00<?, ?it/s]\u001b[A\u001b[A\n",
            "\n",
            "3nd loop:  20%|██        | 10/50 [00:00<00:00, 98.87it/s]\u001b[A\u001b[A\n",
            "\n",
            "3nd loop:  40%|████      | 20/50 [00:00<00:00, 98.04it/s]\u001b[A\u001b[A\n",
            "\n",
            "3nd loop:  60%|██████    | 30/50 [00:00<00:00, 97.58it/s]\u001b[A\u001b[A\n",
            "\n",
            "3nd loop:  80%|████████  | 40/50 [00:00<00:00, 96.29it/s]\u001b[A\u001b[A\n",
            "\n",
            "3nd loop: 100%|██████████| 50/50 [00:00<00:00, 96.40it/s]\u001b[A\u001b[A\n",
            "\n",
            "                                                         \u001b[A\u001b[A\n",
            "2nd loop:  60%|██████    | 3/5 [00:01<00:01,  1.88it/s]\u001b[A\n",
            "\n",
            "3nd loop:   0%|          | 0/50 [00:00<?, ?it/s]\u001b[A\u001b[A\n",
            "\n",
            "3nd loop:  20%|██        | 10/50 [00:00<00:00, 98.69it/s]\u001b[A\u001b[A\n",
            "\n",
            "3nd loop:  40%|████      | 20/50 [00:00<00:00, 97.78it/s]\u001b[A\u001b[A\n",
            "\n",
            "3nd loop:  60%|██████    | 30/50 [00:00<00:00, 97.38it/s]\u001b[A\u001b[A\n",
            "\n",
            "3nd loop:  80%|████████  | 40/50 [00:00<00:00, 97.05it/s]\u001b[A\u001b[A\n",
            "\n",
            "3nd loop: 100%|██████████| 50/50 [00:00<00:00, 96.78it/s]\u001b[A\u001b[A\n",
            "\n",
            "                                                         \u001b[A\u001b[A\n",
            "2nd loop:  80%|████████  | 4/5 [00:02<00:00,  1.88it/s]\u001b[A\n",
            "\n",
            "3nd loop:   0%|          | 0/50 [00:00<?, ?it/s]\u001b[A\u001b[A\n",
            "\n",
            "3nd loop:  20%|██        | 10/50 [00:00<00:00, 98.92it/s]\u001b[A\u001b[A\n",
            "\n",
            "3nd loop:  40%|████      | 20/50 [00:00<00:00, 97.89it/s]\u001b[A\u001b[A\n",
            "\n",
            "3nd loop:  60%|██████    | 30/50 [00:00<00:00, 96.81it/s]\u001b[A\u001b[A\n",
            "\n",
            "3nd loop:  80%|████████  | 40/50 [00:00<00:00, 96.77it/s]\u001b[A\u001b[A\n",
            "\n",
            "3nd loop: 100%|██████████| 50/50 [00:00<00:00, 96.65it/s]\u001b[A\u001b[A\n",
            "\n",
            "                                                         \u001b[A\u001b[A\n",
            "2nd loop: 100%|██████████| 5/5 [00:02<00:00,  1.88it/s]\n",
            "1st loop:  25%|██▌       | 1/4 [00:02<00:08,  2.67s/it]\n",
            "2nd loop:   0%|          | 0/5 [00:00<?, ?it/s]\u001b[A\n",
            "\n",
            "3nd loop:   0%|          | 0/50 [00:00<?, ?it/s]\u001b[A\u001b[A\n",
            "\n",
            "3nd loop:  20%|██        | 10/50 [00:00<00:00, 98.96it/s]\u001b[A\u001b[A\n",
            "\n",
            "3nd loop:  40%|████      | 20/50 [00:00<00:00, 98.07it/s]\u001b[A\u001b[A\n",
            "\n",
            "3nd loop:  60%|██████    | 30/50 [00:00<00:00, 96.97it/s]\u001b[A\u001b[A\n",
            "\n",
            "3nd loop:  80%|████████  | 40/50 [00:00<00:00, 96.69it/s]\u001b[A\u001b[A\n",
            "\n",
            "3nd loop: 100%|██████████| 50/50 [00:00<00:00, 96.50it/s]\u001b[A\u001b[A\n",
            "\n",
            "                                                         \u001b[A\u001b[A\n",
            "2nd loop:  20%|██        | 1/5 [00:00<00:02,  1.89it/s]\u001b[A\n",
            "\n",
            "3nd loop:   0%|          | 0/50 [00:00<?, ?it/s]\u001b[A\u001b[A\n",
            "\n",
            "3nd loop:  20%|██        | 10/50 [00:00<00:00, 98.75it/s]\u001b[A\u001b[A\n",
            "\n",
            "3nd loop:  40%|████      | 20/50 [00:00<00:00, 96.55it/s]\u001b[A\u001b[A\n",
            "\n",
            "3nd loop:  60%|██████    | 30/50 [00:00<00:00, 96.65it/s]\u001b[A\u001b[A\n",
            "\n",
            "3nd loop:  80%|████████  | 40/50 [00:00<00:00, 96.59it/s]\u001b[A\u001b[A\n",
            "\n",
            "3nd loop: 100%|██████████| 50/50 [00:00<00:00, 96.46it/s]\u001b[A\u001b[A\n",
            "\n",
            "                                                         \u001b[A\u001b[A\n",
            "2nd loop:  40%|████      | 2/5 [00:01<00:01,  1.88it/s]\u001b[A\n",
            "\n",
            "3nd loop:   0%|          | 0/50 [00:00<?, ?it/s]\u001b[A\u001b[A\n",
            "\n",
            "3nd loop:  20%|██        | 10/50 [00:00<00:00, 98.96it/s]\u001b[A\u001b[A\n",
            "\n",
            "3nd loop:  40%|████      | 20/50 [00:00<00:00, 97.77it/s]\u001b[A\u001b[A\n",
            "\n",
            "3nd loop:  60%|██████    | 30/50 [00:00<00:00, 97.36it/s]\u001b[A\u001b[A\n",
            "\n",
            "3nd loop:  80%|████████  | 40/50 [00:00<00:00, 97.15it/s]\u001b[A\u001b[A\n",
            "\n",
            "3nd loop: 100%|██████████| 50/50 [00:00<00:00, 96.97it/s]\u001b[A\u001b[A\n",
            "\n",
            "                                                         \u001b[A\u001b[A\n",
            "2nd loop:  60%|██████    | 3/5 [00:01<00:01,  1.88it/s]\u001b[A\n",
            "\n",
            "3nd loop:   0%|          | 0/50 [00:00<?, ?it/s]\u001b[A\u001b[A\n",
            "\n",
            "3nd loop:  20%|██        | 10/50 [00:00<00:00, 98.99it/s]\u001b[A\u001b[A\n",
            "\n",
            "3nd loop:  40%|████      | 20/50 [00:00<00:00, 98.21it/s]\u001b[A\u001b[A\n",
            "\n",
            "3nd loop:  60%|██████    | 30/50 [00:00<00:00, 97.67it/s]\u001b[A\u001b[A\n",
            "\n",
            "3nd loop:  80%|████████  | 40/50 [00:00<00:00, 96.95it/s]\u001b[A\u001b[A\n",
            "\n",
            "3nd loop: 100%|██████████| 50/50 [00:00<00:00, 96.80it/s]\u001b[A\u001b[A\n",
            "\n",
            "                                                         \u001b[A\u001b[A\n",
            "2nd loop:  80%|████████  | 4/5 [00:02<00:00,  1.88it/s]\u001b[A\n",
            "\n",
            "3nd loop:   0%|          | 0/50 [00:00<?, ?it/s]\u001b[A\u001b[A\n",
            "\n",
            "3nd loop:  20%|██        | 10/50 [00:00<00:00, 98.93it/s]\u001b[A\u001b[A\n",
            "\n",
            "3nd loop:  40%|████      | 20/50 [00:00<00:00, 98.11it/s]\u001b[A\u001b[A\n",
            "\n",
            "3nd loop:  60%|██████    | 30/50 [00:00<00:00, 97.27it/s]\u001b[A\u001b[A\n",
            "\n",
            "3nd loop:  80%|████████  | 40/50 [00:00<00:00, 97.10it/s]\u001b[A\u001b[A\n",
            "\n",
            "3nd loop: 100%|██████████| 50/50 [00:00<00:00, 96.67it/s]\u001b[A\u001b[A\n",
            "\n",
            "                                                         \u001b[A\u001b[A\n",
            "2nd loop: 100%|██████████| 5/5 [00:02<00:00,  1.87it/s]\n",
            "1st loop:  50%|█████     | 2/4 [00:05<00:05,  2.67s/it]\n",
            "2nd loop:   0%|          | 0/5 [00:00<?, ?it/s]\u001b[A\n",
            "\n",
            "3nd loop:   0%|          | 0/50 [00:00<?, ?it/s]\u001b[A\u001b[A\n",
            "\n",
            "3nd loop:  20%|██        | 10/50 [00:00<00:00, 98.96it/s]\u001b[A\u001b[A\n",
            "\n",
            "3nd loop:  40%|████      | 20/50 [00:00<00:00, 98.13it/s]\u001b[A\u001b[A\n",
            "\n",
            "3nd loop:  60%|██████    | 30/50 [00:00<00:00, 97.14it/s]\u001b[A\u001b[A\n",
            "\n",
            "3nd loop:  80%|████████  | 40/50 [00:00<00:00, 96.53it/s]\u001b[A\u001b[A\n",
            "\n",
            "3nd loop: 100%|██████████| 50/50 [00:00<00:00, 96.52it/s]\u001b[A\u001b[A\n",
            "\n",
            "                                                         \u001b[A\u001b[A\n",
            "2nd loop:  20%|██        | 1/5 [00:00<00:02,  1.90it/s]\u001b[A\n",
            "\n",
            "3nd loop:   0%|          | 0/50 [00:00<?, ?it/s]\u001b[A\u001b[A\n",
            "\n",
            "3nd loop:  20%|██        | 10/50 [00:00<00:00, 98.97it/s]\u001b[A\u001b[A\n",
            "\n",
            "3nd loop:  40%|████      | 20/50 [00:00<00:00, 97.81it/s]\u001b[A\u001b[A\n",
            "\n",
            "3nd loop:  60%|██████    | 30/50 [00:00<00:00, 97.39it/s]\u001b[A\u001b[A\n",
            "\n",
            "3nd loop:  80%|████████  | 40/50 [00:00<00:00, 97.08it/s]\u001b[A\u001b[A\n",
            "\n",
            "3nd loop: 100%|██████████| 50/50 [00:00<00:00, 96.80it/s]\u001b[A\u001b[A\n",
            "\n",
            "                                                         \u001b[A\u001b[A\n",
            "2nd loop:  40%|████      | 2/5 [00:01<00:01,  1.89it/s]\u001b[A\n",
            "\n",
            "3nd loop:   0%|          | 0/50 [00:00<?, ?it/s]\u001b[A\u001b[A\n",
            "\n",
            "3nd loop:  20%|██        | 10/50 [00:00<00:00, 98.96it/s]\u001b[A\u001b[A\n",
            "\n",
            "3nd loop:  40%|████      | 20/50 [00:00<00:00, 97.06it/s]\u001b[A\u001b[A\n",
            "\n",
            "3nd loop:  60%|██████    | 30/50 [00:00<00:00, 96.90it/s]\u001b[A\u001b[A\n",
            "\n",
            "3nd loop:  80%|████████  | 40/50 [00:00<00:00, 96.70it/s]\u001b[A\u001b[A\n",
            "\n",
            "3nd loop: 100%|██████████| 50/50 [00:00<00:00, 96.59it/s]\u001b[A\u001b[A\n",
            "\n",
            "                                                         \u001b[A\u001b[A\n",
            "2nd loop:  60%|██████    | 3/5 [00:01<00:01,  1.89it/s]\u001b[A\n",
            "\n",
            "3nd loop:   0%|          | 0/50 [00:00<?, ?it/s]\u001b[A\u001b[A\n",
            "\n",
            "3nd loop:  20%|██        | 10/50 [00:00<00:00, 98.82it/s]\u001b[A\u001b[A\n",
            "\n",
            "3nd loop:  40%|████      | 20/50 [00:00<00:00, 98.10it/s]\u001b[A\u001b[A\n",
            "\n",
            "3nd loop:  60%|██████    | 30/50 [00:00<00:00, 97.48it/s]\u001b[A\u001b[A\n",
            "\n",
            "3nd loop:  80%|████████  | 40/50 [00:00<00:00, 96.59it/s]\u001b[A\u001b[A\n",
            "\n",
            "3nd loop: 100%|██████████| 50/50 [00:00<00:00, 96.57it/s]\u001b[A\u001b[A\n",
            "\n",
            "                                                         \u001b[A\u001b[A\n",
            "2nd loop:  80%|████████  | 4/5 [00:02<00:00,  1.89it/s]\u001b[A\n",
            "\n",
            "3nd loop:   0%|          | 0/50 [00:00<?, ?it/s]\u001b[A\u001b[A\n",
            "\n",
            "3nd loop:  20%|██        | 10/50 [00:00<00:00, 98.90it/s]\u001b[A\u001b[A\n",
            "\n",
            "3nd loop:  40%|████      | 20/50 [00:00<00:00, 98.17it/s]\u001b[A\u001b[A\n",
            "\n",
            "3nd loop:  60%|██████    | 30/50 [00:00<00:00, 97.68it/s]\u001b[A\u001b[A\n",
            "\n",
            "3nd loop:  80%|████████  | 40/50 [00:00<00:00, 97.27it/s]\u001b[A\u001b[A\n",
            "\n",
            "3nd loop: 100%|██████████| 50/50 [00:00<00:00, 97.03it/s]\u001b[A\u001b[A\n",
            "\n",
            "                                                         \u001b[A\u001b[A\n",
            "2nd loop: 100%|██████████| 5/5 [00:02<00:00,  1.88it/s]\n",
            "1st loop:  75%|███████▌  | 3/4 [00:08<00:02,  2.67s/it]\n",
            "2nd loop:   0%|          | 0/5 [00:00<?, ?it/s]\u001b[A\n",
            "\n",
            "3nd loop:   0%|          | 0/50 [00:00<?, ?it/s]\u001b[A\u001b[A\n",
            "\n",
            "3nd loop:  20%|██        | 10/50 [00:00<00:00, 98.92it/s]\u001b[A\u001b[A\n",
            "\n",
            "3nd loop:  40%|████      | 20/50 [00:00<00:00, 98.19it/s]\u001b[A\u001b[A\n",
            "\n",
            "3nd loop:  60%|██████    | 30/50 [00:00<00:00, 96.91it/s]\u001b[A\u001b[A\n",
            "\n",
            "3nd loop:  80%|████████  | 40/50 [00:00<00:00, 96.23it/s]\u001b[A\u001b[A\n",
            "\n",
            "3nd loop: 100%|██████████| 50/50 [00:00<00:00, 96.23it/s]\u001b[A\u001b[A\n",
            "\n",
            "                                                         \u001b[A\u001b[A\n",
            "2nd loop:  20%|██        | 1/5 [00:00<00:02,  1.88it/s]\u001b[A\n",
            "\n",
            "3nd loop:   0%|          | 0/50 [00:00<?, ?it/s]\u001b[A\u001b[A\n",
            "\n",
            "3nd loop:  20%|██        | 10/50 [00:00<00:00, 98.88it/s]\u001b[A\u001b[A\n",
            "\n",
            "3nd loop:  40%|████      | 20/50 [00:00<00:00, 98.11it/s]\u001b[A\u001b[A\n",
            "\n",
            "3nd loop:  60%|██████    | 30/50 [00:00<00:00, 97.44it/s]\u001b[A\u001b[A\n",
            "\n",
            "3nd loop:  80%|████████  | 40/50 [00:00<00:00, 96.93it/s]\u001b[A\u001b[A\n",
            "\n",
            "3nd loop: 100%|██████████| 50/50 [00:00<00:00, 96.76it/s]\u001b[A\u001b[A\n",
            "\n",
            "                                                         \u001b[A\u001b[A\n",
            "2nd loop:  40%|████      | 2/5 [00:01<00:01,  1.88it/s]\u001b[A\n",
            "\n",
            "3nd loop:   0%|          | 0/50 [00:00<?, ?it/s]\u001b[A\u001b[A\n",
            "\n",
            "3nd loop:  20%|██        | 10/50 [00:00<00:00, 95.99it/s]\u001b[A\u001b[A\n",
            "\n",
            "3nd loop:  40%|████      | 20/50 [00:00<00:00, 96.12it/s]\u001b[A\u001b[A\n",
            "\n",
            "3nd loop:  60%|██████    | 30/50 [00:00<00:00, 95.60it/s]\u001b[A\u001b[A\n",
            "\n",
            "3nd loop:  80%|████████  | 40/50 [00:00<00:00, 95.88it/s]\u001b[A\u001b[A\n",
            "\n",
            "3nd loop: 100%|██████████| 50/50 [00:00<00:00, 95.95it/s]\u001b[A\u001b[A\n",
            "\n",
            "                                                         \u001b[A\u001b[A\n",
            "2nd loop:  60%|██████    | 3/5 [00:01<00:01,  1.88it/s]\u001b[A\n",
            "\n",
            "3nd loop:   0%|          | 0/50 [00:00<?, ?it/s]\u001b[A\u001b[A\n",
            "\n",
            "3nd loop:  20%|██        | 10/50 [00:00<00:00, 98.40it/s]\u001b[A\u001b[A\n",
            "\n",
            "3nd loop:  40%|████      | 20/50 [00:00<00:00, 97.79it/s]\u001b[A\u001b[A\n",
            "\n",
            "3nd loop:  60%|██████    | 30/50 [00:00<00:00, 97.33it/s]\u001b[A\u001b[A\n",
            "\n",
            "3nd loop:  80%|████████  | 40/50 [00:00<00:00, 97.10it/s]\u001b[A\u001b[A\n",
            "\n",
            "3nd loop: 100%|██████████| 50/50 [00:00<00:00, 96.88it/s]\u001b[A\u001b[A\n",
            "\n",
            "                                                         \u001b[A\u001b[A\n",
            "2nd loop:  80%|████████  | 4/5 [00:02<00:00,  1.88it/s]\u001b[A\n",
            "\n",
            "3nd loop:   0%|          | 0/50 [00:00<?, ?it/s]\u001b[A\u001b[A\n",
            "\n",
            "3nd loop:  20%|██        | 10/50 [00:00<00:00, 98.96it/s]\u001b[A\u001b[A\n",
            "\n",
            "3nd loop:  40%|████      | 20/50 [00:00<00:00, 98.25it/s]\u001b[A\u001b[A\n",
            "\n",
            "3nd loop:  60%|██████    | 30/50 [00:00<00:00, 97.64it/s]\u001b[A\u001b[A\n",
            "\n",
            "3nd loop:  80%|████████  | 40/50 [00:00<00:00, 97.25it/s]\u001b[A\u001b[A\n",
            "\n",
            "3nd loop: 100%|██████████| 50/50 [00:00<00:00, 96.96it/s]\u001b[A\u001b[A\n",
            "\n",
            "                                                         \u001b[A\u001b[A\n",
            "2nd loop: 100%|██████████| 5/5 [00:02<00:00,  1.88it/s]\n",
            "1st loop: 100%|██████████| 4/4 [00:10<00:00,  2.67s/it]\n"
          ],
          "name": "stderr"
        }
      ]
    },
    {
      "cell_type": "markdown",
      "metadata": {
        "id": "Xh74jaLhNifE",
        "colab_type": "text"
      },
      "source": [
        "Machine learning"
      ]
    },
    {
      "cell_type": "code",
      "metadata": {
        "id": "A0GCmq56MvqM",
        "colab_type": "code",
        "colab": {
          "base_uri": "https://localhost:8080/",
          "height": 1000
        },
        "outputId": "4cc44f22-16b4-4fdd-df9d-392b40af6258"
      },
      "source": [
        "%tensorflow_version 1.14\n",
        "from __future__ import print_function\n",
        "\n",
        "import keras\n",
        "from keras.datasets import mnist\n",
        "from keras.models import Sequential\n",
        "from keras.layers import Dense, Dropout\n",
        "from keras.optimizers import RMSprop\n",
        "\n",
        "batch_size = 128\n",
        "num_classes = 10\n",
        "epochs = 5\n",
        "\n",
        "# the data, split between train and test sets\n",
        "(x_train, y_train), (x_test, y_test) = mnist.load_data()\n",
        "\n",
        "x_train = x_train.reshape(60000, 784)\n",
        "x_test = x_test.reshape(10000, 784)\n",
        "x_train = x_train.astype('float32')\n",
        "x_test = x_test.astype('float32')\n",
        "x_train /= 255\n",
        "x_test /= 255\n",
        "print(x_train.shape[0], 'train samples')\n",
        "print(x_test.shape[0], 'test samples')\n",
        "\n",
        "# convert class vectors to binary class matrices\n",
        "y_train = keras.utils.to_categorical(y_train, num_classes)\n",
        "y_test = keras.utils.to_categorical(y_test, num_classes)\n",
        "\n",
        "model = Sequential()\n",
        "model.add(Dense(512, activation='relu', input_shape=(784,)))\n",
        "model.add(Dropout(0.2))\n",
        "model.add(Dense(512, activation='relu'))\n",
        "model.add(Dropout(0.2))\n",
        "model.add(Dense(num_classes, activation='softmax'))\n",
        "\n",
        "model.summary()\n",
        "\n",
        "model.compile(loss='categorical_crossentropy',\n",
        "              optimizer=RMSprop(),\n",
        "              metrics=['accuracy'])\n",
        "\n",
        "history = model.fit(x_train, y_train,\n",
        "                    batch_size=batch_size,\n",
        "                    epochs=epochs,\n",
        "                    verbose=1,\n",
        "                    validation_data=(x_test, y_test))\n",
        "score = model.evaluate(x_test, y_test, verbose=0)\n",
        "print('Test loss:', score[0])\n",
        "print('Test accuracy:', score[1])"
      ],
      "execution_count": 1,
      "outputs": [
        {
          "output_type": "stream",
          "text": [
            "`%tensorflow_version` only switches the major version: 1.x or 2.x.\n",
            "You set: `1.14`. This will be interpreted as: `1.x`.\n",
            "\n",
            "\n",
            "TensorFlow 1.x selected.\n"
          ],
          "name": "stdout"
        },
        {
          "output_type": "stream",
          "text": [
            "Using TensorFlow backend.\n"
          ],
          "name": "stderr"
        },
        {
          "output_type": "stream",
          "text": [
            "60000 train samples\n",
            "10000 test samples\n",
            "WARNING:tensorflow:From /usr/local/lib/python3.6/dist-packages/keras/backend/tensorflow_backend.py:66: The name tf.get_default_graph is deprecated. Please use tf.compat.v1.get_default_graph instead.\n",
            "\n",
            "WARNING:tensorflow:From /usr/local/lib/python3.6/dist-packages/keras/backend/tensorflow_backend.py:541: The name tf.placeholder is deprecated. Please use tf.compat.v1.placeholder instead.\n",
            "\n",
            "WARNING:tensorflow:From /usr/local/lib/python3.6/dist-packages/keras/backend/tensorflow_backend.py:4432: The name tf.random_uniform is deprecated. Please use tf.random.uniform instead.\n",
            "\n",
            "WARNING:tensorflow:From /usr/local/lib/python3.6/dist-packages/keras/backend/tensorflow_backend.py:148: The name tf.placeholder_with_default is deprecated. Please use tf.compat.v1.placeholder_with_default instead.\n",
            "\n",
            "WARNING:tensorflow:From /usr/local/lib/python3.6/dist-packages/keras/backend/tensorflow_backend.py:3733: calling dropout (from tensorflow.python.ops.nn_ops) with keep_prob is deprecated and will be removed in a future version.\n",
            "Instructions for updating:\n",
            "Please use `rate` instead of `keep_prob`. Rate should be set to `rate = 1 - keep_prob`.\n",
            "Model: \"sequential_1\"\n",
            "_________________________________________________________________\n",
            "Layer (type)                 Output Shape              Param #   \n",
            "=================================================================\n",
            "dense_1 (Dense)              (None, 512)               401920    \n",
            "_________________________________________________________________\n",
            "dropout_1 (Dropout)          (None, 512)               0         \n",
            "_________________________________________________________________\n",
            "dense_2 (Dense)              (None, 512)               262656    \n",
            "_________________________________________________________________\n",
            "dropout_2 (Dropout)          (None, 512)               0         \n",
            "_________________________________________________________________\n",
            "dense_3 (Dense)              (None, 10)                5130      \n",
            "=================================================================\n",
            "Total params: 669,706\n",
            "Trainable params: 669,706\n",
            "Non-trainable params: 0\n",
            "_________________________________________________________________\n",
            "WARNING:tensorflow:From /usr/local/lib/python3.6/dist-packages/keras/optimizers.py:793: The name tf.train.Optimizer is deprecated. Please use tf.compat.v1.train.Optimizer instead.\n",
            "\n",
            "WARNING:tensorflow:From /usr/local/lib/python3.6/dist-packages/keras/backend/tensorflow_backend.py:3576: The name tf.log is deprecated. Please use tf.math.log instead.\n",
            "\n",
            "WARNING:tensorflow:From /tensorflow-1.15.2/python3.6/tensorflow_core/python/ops/math_grad.py:1424: where (from tensorflow.python.ops.array_ops) is deprecated and will be removed in a future version.\n",
            "Instructions for updating:\n",
            "Use tf.where in 2.0, which has the same broadcast rule as np.where\n",
            "WARNING:tensorflow:From /usr/local/lib/python3.6/dist-packages/keras/backend/tensorflow_backend.py:1033: The name tf.assign_add is deprecated. Please use tf.compat.v1.assign_add instead.\n",
            "\n",
            "WARNING:tensorflow:From /usr/local/lib/python3.6/dist-packages/keras/backend/tensorflow_backend.py:1020: The name tf.assign is deprecated. Please use tf.compat.v1.assign instead.\n",
            "\n",
            "WARNING:tensorflow:From /usr/local/lib/python3.6/dist-packages/keras/backend/tensorflow_backend.py:3005: The name tf.Session is deprecated. Please use tf.compat.v1.Session instead.\n",
            "\n",
            "Train on 60000 samples, validate on 10000 samples\n",
            "Epoch 1/5\n",
            "WARNING:tensorflow:From /usr/local/lib/python3.6/dist-packages/keras/backend/tensorflow_backend.py:190: The name tf.get_default_session is deprecated. Please use tf.compat.v1.get_default_session instead.\n",
            "\n",
            "WARNING:tensorflow:From /usr/local/lib/python3.6/dist-packages/keras/backend/tensorflow_backend.py:197: The name tf.ConfigProto is deprecated. Please use tf.compat.v1.ConfigProto instead.\n",
            "\n",
            "WARNING:tensorflow:From /usr/local/lib/python3.6/dist-packages/keras/backend/tensorflow_backend.py:207: The name tf.global_variables is deprecated. Please use tf.compat.v1.global_variables instead.\n",
            "\n",
            "WARNING:tensorflow:From /usr/local/lib/python3.6/dist-packages/keras/backend/tensorflow_backend.py:216: The name tf.is_variable_initialized is deprecated. Please use tf.compat.v1.is_variable_initialized instead.\n",
            "\n",
            "WARNING:tensorflow:From /usr/local/lib/python3.6/dist-packages/keras/backend/tensorflow_backend.py:223: The name tf.variables_initializer is deprecated. Please use tf.compat.v1.variables_initializer instead.\n",
            "\n",
            "60000/60000 [==============================] - 9s 158us/step - loss: 0.2513 - acc: 0.9227 - val_loss: 0.1176 - val_acc: 0.9630\n",
            "Epoch 2/5\n",
            "60000/60000 [==============================] - 9s 147us/step - loss: 0.1041 - acc: 0.9675 - val_loss: 0.0879 - val_acc: 0.9716\n",
            "Epoch 3/5\n",
            "60000/60000 [==============================] - 9s 146us/step - loss: 0.0743 - acc: 0.9778 - val_loss: 0.0760 - val_acc: 0.9778\n",
            "Epoch 4/5\n",
            "60000/60000 [==============================] - 9s 147us/step - loss: 0.0621 - acc: 0.9814 - val_loss: 0.0685 - val_acc: 0.9807\n",
            "Epoch 5/5\n",
            "60000/60000 [==============================] - 9s 146us/step - loss: 0.0520 - acc: 0.9847 - val_loss: 0.0825 - val_acc: 0.9793\n",
            "Test loss: 0.08254631726816733\n",
            "Test accuracy: 0.9793\n"
          ],
          "name": "stdout"
        }
      ]
    },
    {
      "cell_type": "code",
      "metadata": {
        "id": "6SAfiXEVNlaI",
        "colab_type": "code",
        "colab": {
          "base_uri": "https://localhost:8080/",
          "height": 162
        },
        "outputId": "37638d92-0a1f-4560-f1bb-bbabb60e1c6c"
      },
      "source": [
        ""
      ],
      "execution_count": 24,
      "outputs": [
        {
          "output_type": "error",
          "ename": "NameError",
          "evalue": "ignored",
          "traceback": [
            "\u001b[0;31m---------------------------------------------------------------------------\u001b[0m",
            "\u001b[0;31mNameError\u001b[0m                                 Traceback (most recent call last)",
            "\u001b[0;32m<ipython-input-24-448a6dba155f>\u001b[0m in \u001b[0;36m<module>\u001b[0;34m()\u001b[0m\n\u001b[0;32m----> 1\u001b[0;31m \u001b[0mmodel\u001b[0m\u001b[0;34m.\u001b[0m\u001b[0mfit\u001b[0m\u001b[0;34m(\u001b[0m\u001b[0mx\u001b[0m\u001b[0;34m,\u001b[0m \u001b[0my\u001b[0m\u001b[0;34m,\u001b[0m \u001b[0mepoch\u001b[0m\u001b[0;34m=\u001b[0m\u001b[0;36m10\u001b[0m\u001b[0;34m)\u001b[0m\u001b[0;34m\u001b[0m\u001b[0;34m\u001b[0m\u001b[0m\n\u001b[0m",
            "\u001b[0;31mNameError\u001b[0m: name 'x' is not defined"
          ]
        }
      ]
    },
    {
      "cell_type": "code",
      "metadata": {
        "id": "4vxgIz0pNsy7",
        "colab_type": "code",
        "colab": {}
      },
      "source": [
        ""
      ],
      "execution_count": 0,
      "outputs": []
    }
  ]
}