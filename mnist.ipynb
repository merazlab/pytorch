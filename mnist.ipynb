{
  "nbformat": 4,
  "nbformat_minor": 0,
  "metadata": {
    "colab": {
      "name": "mnist.ipynb",
      "provenance": [],
      "collapsed_sections": [],
      "authorship_tag": "ABX9TyOx6GKPjzBySJ4q7R2oHW4O",
      "include_colab_link": true
    },
    "kernelspec": {
      "name": "python3",
      "display_name": "Python 3"
    },
    "accelerator": "GPU",
    "widgets": {
      "application/vnd.jupyter.widget-state+json": {
        "a68122d41f97436282036b1ad904432a": {
          "model_module": "@jupyter-widgets/controls",
          "model_name": "HBoxModel",
          "state": {
            "_view_name": "HBoxView",
            "_dom_classes": [],
            "_model_name": "HBoxModel",
            "_view_module": "@jupyter-widgets/controls",
            "_model_module_version": "1.5.0",
            "_view_count": null,
            "_view_module_version": "1.5.0",
            "box_style": "",
            "layout": "IPY_MODEL_bd629fe08b6e4bbabf6034a7523f7067",
            "_model_module": "@jupyter-widgets/controls",
            "children": [
              "IPY_MODEL_7a3b6833658b43b5841cd33abb7d6c35",
              "IPY_MODEL_62508c37fa844abdab1aea5c0e5ed900"
            ]
          }
        },
        "bd629fe08b6e4bbabf6034a7523f7067": {
          "model_module": "@jupyter-widgets/base",
          "model_name": "LayoutModel",
          "state": {
            "_view_name": "LayoutView",
            "grid_template_rows": null,
            "right": null,
            "justify_content": null,
            "_view_module": "@jupyter-widgets/base",
            "overflow": null,
            "_model_module_version": "1.2.0",
            "_view_count": null,
            "flex_flow": null,
            "width": null,
            "min_width": null,
            "border": null,
            "align_items": null,
            "bottom": null,
            "_model_module": "@jupyter-widgets/base",
            "top": null,
            "grid_column": null,
            "overflow_y": null,
            "overflow_x": null,
            "grid_auto_flow": null,
            "grid_area": null,
            "grid_template_columns": null,
            "flex": null,
            "_model_name": "LayoutModel",
            "justify_items": null,
            "grid_row": null,
            "max_height": null,
            "align_content": null,
            "visibility": null,
            "align_self": null,
            "height": null,
            "min_height": null,
            "padding": null,
            "grid_auto_rows": null,
            "grid_gap": null,
            "max_width": null,
            "order": null,
            "_view_module_version": "1.2.0",
            "grid_template_areas": null,
            "object_position": null,
            "object_fit": null,
            "grid_auto_columns": null,
            "margin": null,
            "display": null,
            "left": null
          }
        },
        "7a3b6833658b43b5841cd33abb7d6c35": {
          "model_module": "@jupyter-widgets/controls",
          "model_name": "IntProgressModel",
          "state": {
            "_view_name": "ProgressView",
            "style": "IPY_MODEL_09a0bbece80f4989ab2843ee76d19995",
            "_dom_classes": [],
            "description": "",
            "_model_name": "IntProgressModel",
            "bar_style": "success",
            "max": 1,
            "_view_module": "@jupyter-widgets/controls",
            "_model_module_version": "1.5.0",
            "value": 1,
            "_view_count": null,
            "_view_module_version": "1.5.0",
            "orientation": "horizontal",
            "min": 0,
            "description_tooltip": null,
            "_model_module": "@jupyter-widgets/controls",
            "layout": "IPY_MODEL_608595f41340459a81b99cdb66d908e4"
          }
        },
        "62508c37fa844abdab1aea5c0e5ed900": {
          "model_module": "@jupyter-widgets/controls",
          "model_name": "HTMLModel",
          "state": {
            "_view_name": "HTMLView",
            "style": "IPY_MODEL_cd3cf25b6547403e84e978560938d9f2",
            "_dom_classes": [],
            "description": "",
            "_model_name": "HTMLModel",
            "placeholder": "​",
            "_view_module": "@jupyter-widgets/controls",
            "_model_module_version": "1.5.0",
            "value": " 9920512/? [00:03&lt;00:00, 3147301.81it/s]",
            "_view_count": null,
            "_view_module_version": "1.5.0",
            "description_tooltip": null,
            "_model_module": "@jupyter-widgets/controls",
            "layout": "IPY_MODEL_70642010c64f495aa2ca15f2a0fa6c07"
          }
        },
        "09a0bbece80f4989ab2843ee76d19995": {
          "model_module": "@jupyter-widgets/controls",
          "model_name": "ProgressStyleModel",
          "state": {
            "_view_name": "StyleView",
            "_model_name": "ProgressStyleModel",
            "description_width": "initial",
            "_view_module": "@jupyter-widgets/base",
            "_model_module_version": "1.5.0",
            "_view_count": null,
            "_view_module_version": "1.2.0",
            "bar_color": null,
            "_model_module": "@jupyter-widgets/controls"
          }
        },
        "608595f41340459a81b99cdb66d908e4": {
          "model_module": "@jupyter-widgets/base",
          "model_name": "LayoutModel",
          "state": {
            "_view_name": "LayoutView",
            "grid_template_rows": null,
            "right": null,
            "justify_content": null,
            "_view_module": "@jupyter-widgets/base",
            "overflow": null,
            "_model_module_version": "1.2.0",
            "_view_count": null,
            "flex_flow": null,
            "width": null,
            "min_width": null,
            "border": null,
            "align_items": null,
            "bottom": null,
            "_model_module": "@jupyter-widgets/base",
            "top": null,
            "grid_column": null,
            "overflow_y": null,
            "overflow_x": null,
            "grid_auto_flow": null,
            "grid_area": null,
            "grid_template_columns": null,
            "flex": null,
            "_model_name": "LayoutModel",
            "justify_items": null,
            "grid_row": null,
            "max_height": null,
            "align_content": null,
            "visibility": null,
            "align_self": null,
            "height": null,
            "min_height": null,
            "padding": null,
            "grid_auto_rows": null,
            "grid_gap": null,
            "max_width": null,
            "order": null,
            "_view_module_version": "1.2.0",
            "grid_template_areas": null,
            "object_position": null,
            "object_fit": null,
            "grid_auto_columns": null,
            "margin": null,
            "display": null,
            "left": null
          }
        },
        "cd3cf25b6547403e84e978560938d9f2": {
          "model_module": "@jupyter-widgets/controls",
          "model_name": "DescriptionStyleModel",
          "state": {
            "_view_name": "StyleView",
            "_model_name": "DescriptionStyleModel",
            "description_width": "",
            "_view_module": "@jupyter-widgets/base",
            "_model_module_version": "1.5.0",
            "_view_count": null,
            "_view_module_version": "1.2.0",
            "_model_module": "@jupyter-widgets/controls"
          }
        },
        "70642010c64f495aa2ca15f2a0fa6c07": {
          "model_module": "@jupyter-widgets/base",
          "model_name": "LayoutModel",
          "state": {
            "_view_name": "LayoutView",
            "grid_template_rows": null,
            "right": null,
            "justify_content": null,
            "_view_module": "@jupyter-widgets/base",
            "overflow": null,
            "_model_module_version": "1.2.0",
            "_view_count": null,
            "flex_flow": null,
            "width": null,
            "min_width": null,
            "border": null,
            "align_items": null,
            "bottom": null,
            "_model_module": "@jupyter-widgets/base",
            "top": null,
            "grid_column": null,
            "overflow_y": null,
            "overflow_x": null,
            "grid_auto_flow": null,
            "grid_area": null,
            "grid_template_columns": null,
            "flex": null,
            "_model_name": "LayoutModel",
            "justify_items": null,
            "grid_row": null,
            "max_height": null,
            "align_content": null,
            "visibility": null,
            "align_self": null,
            "height": null,
            "min_height": null,
            "padding": null,
            "grid_auto_rows": null,
            "grid_gap": null,
            "max_width": null,
            "order": null,
            "_view_module_version": "1.2.0",
            "grid_template_areas": null,
            "object_position": null,
            "object_fit": null,
            "grid_auto_columns": null,
            "margin": null,
            "display": null,
            "left": null
          }
        },
        "06d0ea8cc59f4adcb7dc38e94760edc2": {
          "model_module": "@jupyter-widgets/controls",
          "model_name": "HBoxModel",
          "state": {
            "_view_name": "HBoxView",
            "_dom_classes": [],
            "_model_name": "HBoxModel",
            "_view_module": "@jupyter-widgets/controls",
            "_model_module_version": "1.5.0",
            "_view_count": null,
            "_view_module_version": "1.5.0",
            "box_style": "",
            "layout": "IPY_MODEL_7e5b0f49f69344cf947a4b1709103208",
            "_model_module": "@jupyter-widgets/controls",
            "children": [
              "IPY_MODEL_e1fb193cdd7d47a797b71efd166e59d1",
              "IPY_MODEL_d336a61d0ba54b6695492de074f93f7c"
            ]
          }
        },
        "7e5b0f49f69344cf947a4b1709103208": {
          "model_module": "@jupyter-widgets/base",
          "model_name": "LayoutModel",
          "state": {
            "_view_name": "LayoutView",
            "grid_template_rows": null,
            "right": null,
            "justify_content": null,
            "_view_module": "@jupyter-widgets/base",
            "overflow": null,
            "_model_module_version": "1.2.0",
            "_view_count": null,
            "flex_flow": null,
            "width": null,
            "min_width": null,
            "border": null,
            "align_items": null,
            "bottom": null,
            "_model_module": "@jupyter-widgets/base",
            "top": null,
            "grid_column": null,
            "overflow_y": null,
            "overflow_x": null,
            "grid_auto_flow": null,
            "grid_area": null,
            "grid_template_columns": null,
            "flex": null,
            "_model_name": "LayoutModel",
            "justify_items": null,
            "grid_row": null,
            "max_height": null,
            "align_content": null,
            "visibility": null,
            "align_self": null,
            "height": null,
            "min_height": null,
            "padding": null,
            "grid_auto_rows": null,
            "grid_gap": null,
            "max_width": null,
            "order": null,
            "_view_module_version": "1.2.0",
            "grid_template_areas": null,
            "object_position": null,
            "object_fit": null,
            "grid_auto_columns": null,
            "margin": null,
            "display": null,
            "left": null
          }
        },
        "e1fb193cdd7d47a797b71efd166e59d1": {
          "model_module": "@jupyter-widgets/controls",
          "model_name": "IntProgressModel",
          "state": {
            "_view_name": "ProgressView",
            "style": "IPY_MODEL_47c19ad050684d70bd85a6718aa62b15",
            "_dom_classes": [],
            "description": "",
            "_model_name": "IntProgressModel",
            "bar_style": "success",
            "max": 1,
            "_view_module": "@jupyter-widgets/controls",
            "_model_module_version": "1.5.0",
            "value": 1,
            "_view_count": null,
            "_view_module_version": "1.5.0",
            "orientation": "horizontal",
            "min": 0,
            "description_tooltip": null,
            "_model_module": "@jupyter-widgets/controls",
            "layout": "IPY_MODEL_4e5eced7fe884db4984b53f685f1397e"
          }
        },
        "d336a61d0ba54b6695492de074f93f7c": {
          "model_module": "@jupyter-widgets/controls",
          "model_name": "HTMLModel",
          "state": {
            "_view_name": "HTMLView",
            "style": "IPY_MODEL_0af4b98d77fd4f3cb27783056d333189",
            "_dom_classes": [],
            "description": "",
            "_model_name": "HTMLModel",
            "placeholder": "​",
            "_view_module": "@jupyter-widgets/controls",
            "_model_module_version": "1.5.0",
            "value": " 32768/? [00:01&lt;00:00, 20881.71it/s]",
            "_view_count": null,
            "_view_module_version": "1.5.0",
            "description_tooltip": null,
            "_model_module": "@jupyter-widgets/controls",
            "layout": "IPY_MODEL_80d1cf29422a48aab19cd20a9b7ad84b"
          }
        },
        "47c19ad050684d70bd85a6718aa62b15": {
          "model_module": "@jupyter-widgets/controls",
          "model_name": "ProgressStyleModel",
          "state": {
            "_view_name": "StyleView",
            "_model_name": "ProgressStyleModel",
            "description_width": "initial",
            "_view_module": "@jupyter-widgets/base",
            "_model_module_version": "1.5.0",
            "_view_count": null,
            "_view_module_version": "1.2.0",
            "bar_color": null,
            "_model_module": "@jupyter-widgets/controls"
          }
        },
        "4e5eced7fe884db4984b53f685f1397e": {
          "model_module": "@jupyter-widgets/base",
          "model_name": "LayoutModel",
          "state": {
            "_view_name": "LayoutView",
            "grid_template_rows": null,
            "right": null,
            "justify_content": null,
            "_view_module": "@jupyter-widgets/base",
            "overflow": null,
            "_model_module_version": "1.2.0",
            "_view_count": null,
            "flex_flow": null,
            "width": null,
            "min_width": null,
            "border": null,
            "align_items": null,
            "bottom": null,
            "_model_module": "@jupyter-widgets/base",
            "top": null,
            "grid_column": null,
            "overflow_y": null,
            "overflow_x": null,
            "grid_auto_flow": null,
            "grid_area": null,
            "grid_template_columns": null,
            "flex": null,
            "_model_name": "LayoutModel",
            "justify_items": null,
            "grid_row": null,
            "max_height": null,
            "align_content": null,
            "visibility": null,
            "align_self": null,
            "height": null,
            "min_height": null,
            "padding": null,
            "grid_auto_rows": null,
            "grid_gap": null,
            "max_width": null,
            "order": null,
            "_view_module_version": "1.2.0",
            "grid_template_areas": null,
            "object_position": null,
            "object_fit": null,
            "grid_auto_columns": null,
            "margin": null,
            "display": null,
            "left": null
          }
        },
        "0af4b98d77fd4f3cb27783056d333189": {
          "model_module": "@jupyter-widgets/controls",
          "model_name": "DescriptionStyleModel",
          "state": {
            "_view_name": "StyleView",
            "_model_name": "DescriptionStyleModel",
            "description_width": "",
            "_view_module": "@jupyter-widgets/base",
            "_model_module_version": "1.5.0",
            "_view_count": null,
            "_view_module_version": "1.2.0",
            "_model_module": "@jupyter-widgets/controls"
          }
        },
        "80d1cf29422a48aab19cd20a9b7ad84b": {
          "model_module": "@jupyter-widgets/base",
          "model_name": "LayoutModel",
          "state": {
            "_view_name": "LayoutView",
            "grid_template_rows": null,
            "right": null,
            "justify_content": null,
            "_view_module": "@jupyter-widgets/base",
            "overflow": null,
            "_model_module_version": "1.2.0",
            "_view_count": null,
            "flex_flow": null,
            "width": null,
            "min_width": null,
            "border": null,
            "align_items": null,
            "bottom": null,
            "_model_module": "@jupyter-widgets/base",
            "top": null,
            "grid_column": null,
            "overflow_y": null,
            "overflow_x": null,
            "grid_auto_flow": null,
            "grid_area": null,
            "grid_template_columns": null,
            "flex": null,
            "_model_name": "LayoutModel",
            "justify_items": null,
            "grid_row": null,
            "max_height": null,
            "align_content": null,
            "visibility": null,
            "align_self": null,
            "height": null,
            "min_height": null,
            "padding": null,
            "grid_auto_rows": null,
            "grid_gap": null,
            "max_width": null,
            "order": null,
            "_view_module_version": "1.2.0",
            "grid_template_areas": null,
            "object_position": null,
            "object_fit": null,
            "grid_auto_columns": null,
            "margin": null,
            "display": null,
            "left": null
          }
        },
        "8d0c1cae2d4343d6af0f83d16be74d90": {
          "model_module": "@jupyter-widgets/controls",
          "model_name": "HBoxModel",
          "state": {
            "_view_name": "HBoxView",
            "_dom_classes": [],
            "_model_name": "HBoxModel",
            "_view_module": "@jupyter-widgets/controls",
            "_model_module_version": "1.5.0",
            "_view_count": null,
            "_view_module_version": "1.5.0",
            "box_style": "",
            "layout": "IPY_MODEL_7f0b35753c32428ab00141db51315e3d",
            "_model_module": "@jupyter-widgets/controls",
            "children": [
              "IPY_MODEL_ac74744858034aefb0ed16b20074f7c2",
              "IPY_MODEL_6bfb7effa6b0403a82b7e3eb8f08f265"
            ]
          }
        },
        "7f0b35753c32428ab00141db51315e3d": {
          "model_module": "@jupyter-widgets/base",
          "model_name": "LayoutModel",
          "state": {
            "_view_name": "LayoutView",
            "grid_template_rows": null,
            "right": null,
            "justify_content": null,
            "_view_module": "@jupyter-widgets/base",
            "overflow": null,
            "_model_module_version": "1.2.0",
            "_view_count": null,
            "flex_flow": null,
            "width": null,
            "min_width": null,
            "border": null,
            "align_items": null,
            "bottom": null,
            "_model_module": "@jupyter-widgets/base",
            "top": null,
            "grid_column": null,
            "overflow_y": null,
            "overflow_x": null,
            "grid_auto_flow": null,
            "grid_area": null,
            "grid_template_columns": null,
            "flex": null,
            "_model_name": "LayoutModel",
            "justify_items": null,
            "grid_row": null,
            "max_height": null,
            "align_content": null,
            "visibility": null,
            "align_self": null,
            "height": null,
            "min_height": null,
            "padding": null,
            "grid_auto_rows": null,
            "grid_gap": null,
            "max_width": null,
            "order": null,
            "_view_module_version": "1.2.0",
            "grid_template_areas": null,
            "object_position": null,
            "object_fit": null,
            "grid_auto_columns": null,
            "margin": null,
            "display": null,
            "left": null
          }
        },
        "ac74744858034aefb0ed16b20074f7c2": {
          "model_module": "@jupyter-widgets/controls",
          "model_name": "IntProgressModel",
          "state": {
            "_view_name": "ProgressView",
            "style": "IPY_MODEL_0829e4887ad94774a90799ddd55d745b",
            "_dom_classes": [],
            "description": "",
            "_model_name": "IntProgressModel",
            "bar_style": "success",
            "max": 1,
            "_view_module": "@jupyter-widgets/controls",
            "_model_module_version": "1.5.0",
            "value": 1,
            "_view_count": null,
            "_view_module_version": "1.5.0",
            "orientation": "horizontal",
            "min": 0,
            "description_tooltip": null,
            "_model_module": "@jupyter-widgets/controls",
            "layout": "IPY_MODEL_cae9d28682354c18beabcc411fe1a2d1"
          }
        },
        "6bfb7effa6b0403a82b7e3eb8f08f265": {
          "model_module": "@jupyter-widgets/controls",
          "model_name": "HTMLModel",
          "state": {
            "_view_name": "HTMLView",
            "style": "IPY_MODEL_c1c0a6720b0b4a39b11a9f306e45d3ad",
            "_dom_classes": [],
            "description": "",
            "_model_name": "HTMLModel",
            "placeholder": "​",
            "_view_module": "@jupyter-widgets/controls",
            "_model_module_version": "1.5.0",
            "value": " 1654784/? [00:01&lt;00:00, 1276940.98it/s]",
            "_view_count": null,
            "_view_module_version": "1.5.0",
            "description_tooltip": null,
            "_model_module": "@jupyter-widgets/controls",
            "layout": "IPY_MODEL_1226a23efebd45d585d479736d8a0460"
          }
        },
        "0829e4887ad94774a90799ddd55d745b": {
          "model_module": "@jupyter-widgets/controls",
          "model_name": "ProgressStyleModel",
          "state": {
            "_view_name": "StyleView",
            "_model_name": "ProgressStyleModel",
            "description_width": "initial",
            "_view_module": "@jupyter-widgets/base",
            "_model_module_version": "1.5.0",
            "_view_count": null,
            "_view_module_version": "1.2.0",
            "bar_color": null,
            "_model_module": "@jupyter-widgets/controls"
          }
        },
        "cae9d28682354c18beabcc411fe1a2d1": {
          "model_module": "@jupyter-widgets/base",
          "model_name": "LayoutModel",
          "state": {
            "_view_name": "LayoutView",
            "grid_template_rows": null,
            "right": null,
            "justify_content": null,
            "_view_module": "@jupyter-widgets/base",
            "overflow": null,
            "_model_module_version": "1.2.0",
            "_view_count": null,
            "flex_flow": null,
            "width": null,
            "min_width": null,
            "border": null,
            "align_items": null,
            "bottom": null,
            "_model_module": "@jupyter-widgets/base",
            "top": null,
            "grid_column": null,
            "overflow_y": null,
            "overflow_x": null,
            "grid_auto_flow": null,
            "grid_area": null,
            "grid_template_columns": null,
            "flex": null,
            "_model_name": "LayoutModel",
            "justify_items": null,
            "grid_row": null,
            "max_height": null,
            "align_content": null,
            "visibility": null,
            "align_self": null,
            "height": null,
            "min_height": null,
            "padding": null,
            "grid_auto_rows": null,
            "grid_gap": null,
            "max_width": null,
            "order": null,
            "_view_module_version": "1.2.0",
            "grid_template_areas": null,
            "object_position": null,
            "object_fit": null,
            "grid_auto_columns": null,
            "margin": null,
            "display": null,
            "left": null
          }
        },
        "c1c0a6720b0b4a39b11a9f306e45d3ad": {
          "model_module": "@jupyter-widgets/controls",
          "model_name": "DescriptionStyleModel",
          "state": {
            "_view_name": "StyleView",
            "_model_name": "DescriptionStyleModel",
            "description_width": "",
            "_view_module": "@jupyter-widgets/base",
            "_model_module_version": "1.5.0",
            "_view_count": null,
            "_view_module_version": "1.2.0",
            "_model_module": "@jupyter-widgets/controls"
          }
        },
        "1226a23efebd45d585d479736d8a0460": {
          "model_module": "@jupyter-widgets/base",
          "model_name": "LayoutModel",
          "state": {
            "_view_name": "LayoutView",
            "grid_template_rows": null,
            "right": null,
            "justify_content": null,
            "_view_module": "@jupyter-widgets/base",
            "overflow": null,
            "_model_module_version": "1.2.0",
            "_view_count": null,
            "flex_flow": null,
            "width": null,
            "min_width": null,
            "border": null,
            "align_items": null,
            "bottom": null,
            "_model_module": "@jupyter-widgets/base",
            "top": null,
            "grid_column": null,
            "overflow_y": null,
            "overflow_x": null,
            "grid_auto_flow": null,
            "grid_area": null,
            "grid_template_columns": null,
            "flex": null,
            "_model_name": "LayoutModel",
            "justify_items": null,
            "grid_row": null,
            "max_height": null,
            "align_content": null,
            "visibility": null,
            "align_self": null,
            "height": null,
            "min_height": null,
            "padding": null,
            "grid_auto_rows": null,
            "grid_gap": null,
            "max_width": null,
            "order": null,
            "_view_module_version": "1.2.0",
            "grid_template_areas": null,
            "object_position": null,
            "object_fit": null,
            "grid_auto_columns": null,
            "margin": null,
            "display": null,
            "left": null
          }
        },
        "1dc49e34435e4d3b825d90a6b7df248a": {
          "model_module": "@jupyter-widgets/controls",
          "model_name": "HBoxModel",
          "state": {
            "_view_name": "HBoxView",
            "_dom_classes": [],
            "_model_name": "HBoxModel",
            "_view_module": "@jupyter-widgets/controls",
            "_model_module_version": "1.5.0",
            "_view_count": null,
            "_view_module_version": "1.5.0",
            "box_style": "",
            "layout": "IPY_MODEL_ece20d379d5d4f579c05c98fe226a502",
            "_model_module": "@jupyter-widgets/controls",
            "children": [
              "IPY_MODEL_6157291c4e7a48e1ab0b9c810db4039f",
              "IPY_MODEL_9499e7e6f525404c989898bac1aaa233"
            ]
          }
        },
        "ece20d379d5d4f579c05c98fe226a502": {
          "model_module": "@jupyter-widgets/base",
          "model_name": "LayoutModel",
          "state": {
            "_view_name": "LayoutView",
            "grid_template_rows": null,
            "right": null,
            "justify_content": null,
            "_view_module": "@jupyter-widgets/base",
            "overflow": null,
            "_model_module_version": "1.2.0",
            "_view_count": null,
            "flex_flow": null,
            "width": null,
            "min_width": null,
            "border": null,
            "align_items": null,
            "bottom": null,
            "_model_module": "@jupyter-widgets/base",
            "top": null,
            "grid_column": null,
            "overflow_y": null,
            "overflow_x": null,
            "grid_auto_flow": null,
            "grid_area": null,
            "grid_template_columns": null,
            "flex": null,
            "_model_name": "LayoutModel",
            "justify_items": null,
            "grid_row": null,
            "max_height": null,
            "align_content": null,
            "visibility": null,
            "align_self": null,
            "height": null,
            "min_height": null,
            "padding": null,
            "grid_auto_rows": null,
            "grid_gap": null,
            "max_width": null,
            "order": null,
            "_view_module_version": "1.2.0",
            "grid_template_areas": null,
            "object_position": null,
            "object_fit": null,
            "grid_auto_columns": null,
            "margin": null,
            "display": null,
            "left": null
          }
        },
        "6157291c4e7a48e1ab0b9c810db4039f": {
          "model_module": "@jupyter-widgets/controls",
          "model_name": "IntProgressModel",
          "state": {
            "_view_name": "ProgressView",
            "style": "IPY_MODEL_3ff80c1967814e2dbc18b454cbdd2275",
            "_dom_classes": [],
            "description": "",
            "_model_name": "IntProgressModel",
            "bar_style": "success",
            "max": 1,
            "_view_module": "@jupyter-widgets/controls",
            "_model_module_version": "1.5.0",
            "value": 1,
            "_view_count": null,
            "_view_module_version": "1.5.0",
            "orientation": "horizontal",
            "min": 0,
            "description_tooltip": null,
            "_model_module": "@jupyter-widgets/controls",
            "layout": "IPY_MODEL_90c7580049c64eb8a0299bd9aa62e0b0"
          }
        },
        "9499e7e6f525404c989898bac1aaa233": {
          "model_module": "@jupyter-widgets/controls",
          "model_name": "HTMLModel",
          "state": {
            "_view_name": "HTMLView",
            "style": "IPY_MODEL_e39c22de6ec54454a754449c22ec26f8",
            "_dom_classes": [],
            "description": "",
            "_model_name": "HTMLModel",
            "placeholder": "​",
            "_view_module": "@jupyter-widgets/controls",
            "_model_module_version": "1.5.0",
            "value": " 8192/? [00:00&lt;00:00, 15782.46it/s]",
            "_view_count": null,
            "_view_module_version": "1.5.0",
            "description_tooltip": null,
            "_model_module": "@jupyter-widgets/controls",
            "layout": "IPY_MODEL_385c4a5d0b6143e8a583d95eaff64173"
          }
        },
        "3ff80c1967814e2dbc18b454cbdd2275": {
          "model_module": "@jupyter-widgets/controls",
          "model_name": "ProgressStyleModel",
          "state": {
            "_view_name": "StyleView",
            "_model_name": "ProgressStyleModel",
            "description_width": "initial",
            "_view_module": "@jupyter-widgets/base",
            "_model_module_version": "1.5.0",
            "_view_count": null,
            "_view_module_version": "1.2.0",
            "bar_color": null,
            "_model_module": "@jupyter-widgets/controls"
          }
        },
        "90c7580049c64eb8a0299bd9aa62e0b0": {
          "model_module": "@jupyter-widgets/base",
          "model_name": "LayoutModel",
          "state": {
            "_view_name": "LayoutView",
            "grid_template_rows": null,
            "right": null,
            "justify_content": null,
            "_view_module": "@jupyter-widgets/base",
            "overflow": null,
            "_model_module_version": "1.2.0",
            "_view_count": null,
            "flex_flow": null,
            "width": null,
            "min_width": null,
            "border": null,
            "align_items": null,
            "bottom": null,
            "_model_module": "@jupyter-widgets/base",
            "top": null,
            "grid_column": null,
            "overflow_y": null,
            "overflow_x": null,
            "grid_auto_flow": null,
            "grid_area": null,
            "grid_template_columns": null,
            "flex": null,
            "_model_name": "LayoutModel",
            "justify_items": null,
            "grid_row": null,
            "max_height": null,
            "align_content": null,
            "visibility": null,
            "align_self": null,
            "height": null,
            "min_height": null,
            "padding": null,
            "grid_auto_rows": null,
            "grid_gap": null,
            "max_width": null,
            "order": null,
            "_view_module_version": "1.2.0",
            "grid_template_areas": null,
            "object_position": null,
            "object_fit": null,
            "grid_auto_columns": null,
            "margin": null,
            "display": null,
            "left": null
          }
        },
        "e39c22de6ec54454a754449c22ec26f8": {
          "model_module": "@jupyter-widgets/controls",
          "model_name": "DescriptionStyleModel",
          "state": {
            "_view_name": "StyleView",
            "_model_name": "DescriptionStyleModel",
            "description_width": "",
            "_view_module": "@jupyter-widgets/base",
            "_model_module_version": "1.5.0",
            "_view_count": null,
            "_view_module_version": "1.2.0",
            "_model_module": "@jupyter-widgets/controls"
          }
        },
        "385c4a5d0b6143e8a583d95eaff64173": {
          "model_module": "@jupyter-widgets/base",
          "model_name": "LayoutModel",
          "state": {
            "_view_name": "LayoutView",
            "grid_template_rows": null,
            "right": null,
            "justify_content": null,
            "_view_module": "@jupyter-widgets/base",
            "overflow": null,
            "_model_module_version": "1.2.0",
            "_view_count": null,
            "flex_flow": null,
            "width": null,
            "min_width": null,
            "border": null,
            "align_items": null,
            "bottom": null,
            "_model_module": "@jupyter-widgets/base",
            "top": null,
            "grid_column": null,
            "overflow_y": null,
            "overflow_x": null,
            "grid_auto_flow": null,
            "grid_area": null,
            "grid_template_columns": null,
            "flex": null,
            "_model_name": "LayoutModel",
            "justify_items": null,
            "grid_row": null,
            "max_height": null,
            "align_content": null,
            "visibility": null,
            "align_self": null,
            "height": null,
            "min_height": null,
            "padding": null,
            "grid_auto_rows": null,
            "grid_gap": null,
            "max_width": null,
            "order": null,
            "_view_module_version": "1.2.0",
            "grid_template_areas": null,
            "object_position": null,
            "object_fit": null,
            "grid_auto_columns": null,
            "margin": null,
            "display": null,
            "left": null
          }
        }
      }
    }
  },
  "cells": [
    {
      "cell_type": "markdown",
      "metadata": {
        "id": "view-in-github",
        "colab_type": "text"
      },
      "source": [
        "<a href=\"https://colab.research.google.com/github/merazlab/pytorch/blob/master/mnist.ipynb\" target=\"_parent\"><img src=\"https://colab.research.google.com/assets/colab-badge.svg\" alt=\"Open In Colab\"/></a>"
      ]
    },
    {
      "cell_type": "code",
      "metadata": {
        "id": "UvC3qwFgdVho",
        "colab_type": "code",
        "colab": {}
      },
      "source": [
        "import torch\n",
        "import torch.nn as nn\n",
        "import torchvision.transforms as transforms\n",
        "import torchvision.datasets as datasets"
      ],
      "execution_count": 0,
      "outputs": []
    },
    {
      "cell_type": "code",
      "metadata": {
        "id": "TaXkJHwUdwMz",
        "colab_type": "code",
        "colab": {}
      },
      "source": [
        "mean_gray = 0.1382\n",
        "std_dev = 0.3081\n",
        "\n",
        "transforms = transforms.Compose([transforms.ToTensor(), transforms.Normalize((mean_gray,), (std_dev,))])"
      ],
      "execution_count": 0,
      "outputs": []
    },
    {
      "cell_type": "code",
      "metadata": {
        "id": "f884kGtpejxn",
        "colab_type": "code",
        "colab": {
          "base_uri": "https://localhost:8080/",
          "height": 333,
          "referenced_widgets": [
            "a68122d41f97436282036b1ad904432a",
            "bd629fe08b6e4bbabf6034a7523f7067",
            "7a3b6833658b43b5841cd33abb7d6c35",
            "62508c37fa844abdab1aea5c0e5ed900",
            "09a0bbece80f4989ab2843ee76d19995",
            "608595f41340459a81b99cdb66d908e4",
            "cd3cf25b6547403e84e978560938d9f2",
            "70642010c64f495aa2ca15f2a0fa6c07",
            "06d0ea8cc59f4adcb7dc38e94760edc2",
            "7e5b0f49f69344cf947a4b1709103208",
            "e1fb193cdd7d47a797b71efd166e59d1",
            "d336a61d0ba54b6695492de074f93f7c",
            "47c19ad050684d70bd85a6718aa62b15",
            "4e5eced7fe884db4984b53f685f1397e",
            "0af4b98d77fd4f3cb27783056d333189",
            "80d1cf29422a48aab19cd20a9b7ad84b",
            "8d0c1cae2d4343d6af0f83d16be74d90",
            "7f0b35753c32428ab00141db51315e3d",
            "ac74744858034aefb0ed16b20074f7c2",
            "6bfb7effa6b0403a82b7e3eb8f08f265",
            "0829e4887ad94774a90799ddd55d745b",
            "cae9d28682354c18beabcc411fe1a2d1",
            "c1c0a6720b0b4a39b11a9f306e45d3ad",
            "1226a23efebd45d585d479736d8a0460",
            "1dc49e34435e4d3b825d90a6b7df248a",
            "ece20d379d5d4f579c05c98fe226a502",
            "6157291c4e7a48e1ab0b9c810db4039f",
            "9499e7e6f525404c989898bac1aaa233",
            "3ff80c1967814e2dbc18b454cbdd2275",
            "90c7580049c64eb8a0299bd9aa62e0b0",
            "e39c22de6ec54454a754449c22ec26f8",
            "385c4a5d0b6143e8a583d95eaff64173"
          ]
        },
        "outputId": "e11950f2-f204-413e-8dd3-9893be59a81e"
      },
      "source": [
        "train_dataset = datasets.MNIST(\"./data\", train=True, transform=transforms, download=True)\n",
        "test_dataset = datasets.MNIST(\"./data\", train=False, transform=transforms)\n"
      ],
      "execution_count": 4,
      "outputs": [
        {
          "output_type": "stream",
          "text": [
            "Downloading http://yann.lecun.com/exdb/mnist/train-images-idx3-ubyte.gz to ./data/MNIST/raw/train-images-idx3-ubyte.gz\n"
          ],
          "name": "stdout"
        },
        {
          "output_type": "display_data",
          "data": {
            "application/vnd.jupyter.widget-view+json": {
              "model_id": "a68122d41f97436282036b1ad904432a",
              "version_minor": 0,
              "version_major": 2
            },
            "text/plain": [
              "HBox(children=(IntProgress(value=1, bar_style='info', max=1), HTML(value='')))"
            ]
          },
          "metadata": {
            "tags": []
          }
        },
        {
          "output_type": "stream",
          "text": [
            "Extracting ./data/MNIST/raw/train-images-idx3-ubyte.gz to ./data/MNIST/raw\n",
            "Downloading http://yann.lecun.com/exdb/mnist/train-labels-idx1-ubyte.gz to ./data/MNIST/raw/train-labels-idx1-ubyte.gz\n"
          ],
          "name": "stdout"
        },
        {
          "output_type": "display_data",
          "data": {
            "application/vnd.jupyter.widget-view+json": {
              "model_id": "06d0ea8cc59f4adcb7dc38e94760edc2",
              "version_minor": 0,
              "version_major": 2
            },
            "text/plain": [
              "HBox(children=(IntProgress(value=1, bar_style='info', max=1), HTML(value='')))"
            ]
          },
          "metadata": {
            "tags": []
          }
        },
        {
          "output_type": "stream",
          "text": [
            "Extracting ./data/MNIST/raw/train-labels-idx1-ubyte.gz to ./data/MNIST/raw\n",
            "Downloading http://yann.lecun.com/exdb/mnist/t10k-images-idx3-ubyte.gz to ./data/MNIST/raw/t10k-images-idx3-ubyte.gz\n"
          ],
          "name": "stdout"
        },
        {
          "output_type": "display_data",
          "data": {
            "application/vnd.jupyter.widget-view+json": {
              "model_id": "8d0c1cae2d4343d6af0f83d16be74d90",
              "version_minor": 0,
              "version_major": 2
            },
            "text/plain": [
              "HBox(children=(IntProgress(value=1, bar_style='info', max=1), HTML(value='')))"
            ]
          },
          "metadata": {
            "tags": []
          }
        },
        {
          "output_type": "stream",
          "text": [
            "Extracting ./data/MNIST/raw/t10k-images-idx3-ubyte.gz to ./data/MNIST/raw\n",
            "Downloading http://yann.lecun.com/exdb/mnist/t10k-labels-idx1-ubyte.gz to ./data/MNIST/raw/t10k-labels-idx1-ubyte.gz\n"
          ],
          "name": "stdout"
        },
        {
          "output_type": "display_data",
          "data": {
            "application/vnd.jupyter.widget-view+json": {
              "model_id": "1dc49e34435e4d3b825d90a6b7df248a",
              "version_minor": 0,
              "version_major": 2
            },
            "text/plain": [
              "HBox(children=(IntProgress(value=1, bar_style='info', max=1), HTML(value='')))"
            ]
          },
          "metadata": {
            "tags": []
          }
        },
        {
          "output_type": "stream",
          "text": [
            "Extracting ./data/MNIST/raw/t10k-labels-idx1-ubyte.gz to ./data/MNIST/raw\n",
            "Processing...\n",
            "Done!\n"
          ],
          "name": "stdout"
        }
      ]
    },
    {
      "cell_type": "code",
      "metadata": {
        "id": "UwcZom9wgHTt",
        "colab_type": "code",
        "colab": {}
      },
      "source": [
        "import matplotlib.pyplot as plt\n"
      ],
      "execution_count": 0,
      "outputs": []
    },
    {
      "cell_type": "code",
      "metadata": {
        "id": "KQwYwrplhTZR",
        "colab_type": "code",
        "colab": {
          "base_uri": "https://localhost:8080/",
          "height": 34
        },
        "outputId": "77983e16-5dd9-4562-b10e-8bfcc1f61db5"
      },
      "source": [
        "print(type(train_dataset))\n",
        "# print(train_dataset.shape)"
      ],
      "execution_count": 6,
      "outputs": [
        {
          "output_type": "stream",
          "text": [
            "<class 'torchvision.datasets.mnist.MNIST'>\n"
          ],
          "name": "stdout"
        }
      ]
    },
    {
      "cell_type": "code",
      "metadata": {
        "id": "cGUvHKWwgY5W",
        "colab_type": "code",
        "colab": {
          "base_uri": "https://localhost:8080/",
          "height": 101
        },
        "outputId": "bea3cbe3-a315-4da4-bfb4-6283e5605e7e"
      },
      "source": [
        "img_sample = train_dataset[4][0].numpy() * std_dev + mean_gray\n",
        "# print(img_sample)\n",
        "print(type(img_sample))\n",
        "print(img_sample.shape)"
      ],
      "execution_count": 7,
      "outputs": [
        {
          "output_type": "stream",
          "text": [
            "\n",
            "\n",
            "\n",
            "<class 'numpy.ndarray'>\n",
            "(1, 28, 28)\n"
          ],
          "name": "stdout"
        }
      ]
    },
    {
      "cell_type": "code",
      "metadata": {
        "id": "rmUIjGdQJ45r",
        "colab_type": "code",
        "colab": {
          "base_uri": "https://localhost:8080/",
          "height": 282
        },
        "outputId": "f924844b-0fbe-4bb7-b460-fe6f51c409a8"
      },
      "source": [
        "plt.imshow(img_sample.reshape(28, 28), cmap='gray')"
      ],
      "execution_count": 8,
      "outputs": [
        {
          "output_type": "execute_result",
          "data": {
            "text/plain": [
              "<matplotlib.image.AxesImage at 0x7f638d4a8940>"
            ]
          },
          "metadata": {
            "tags": []
          },
          "execution_count": 8
        },
        {
          "output_type": "stream",
          "text": [
            "\n"
          ],
          "name": "stdout"
        },
        {
          "output_type": "display_data",
          "data": {
            "image/png": "[encoded data removed]",
            "text/plain": [
              "<Figure size 432x288 with 1 Axes>"
            ]
          },
          "metadata": {
            "tags": []
          }
        }
      ]
    },
    {
      "cell_type": "code",
      "metadata": {
        "id": "Dqkl6IziTDCf",
        "colab_type": "code",
        "colab": {}
      },
      "source": [
        "train_loader = torch.utils.data.DataLoader(train_dataset, batch_size=200, shuffle=True)\n",
        "test_loader = torch.utils.data.DataLoader(test_dataset, batch_size=200, shuffle=False)\n"
      ],
      "execution_count": 0,
      "outputs": []
    },
    {
      "cell_type": "code",
      "metadata": {
        "id": "1tPYSiLOWiCf",
        "colab_type": "code",
        "colab": {
          "base_uri": "https://localhost:8080/",
          "height": 50
        },
        "outputId": "5f8e559e-3566-469d-ac62-ebe11bc4d899"
      },
      "source": [
        "print(type(train_loader))\n",
        "print(len(train_loader))"
      ],
      "execution_count": 10,
      "outputs": [
        {
          "output_type": "stream",
          "text": [
            "<class 'torch.utils.data.dataloader.DataLoader'>\n",
            "300\n"
          ],
          "name": "stdout"
        }
      ]
    },
    {
      "cell_type": "code",
      "metadata": {
        "id": "iAUF3j7TWquL",
        "colab_type": "code",
        "colab": {}
      },
      "source": [
        "class LNET(nn.Module):\n",
        "  def __init__(self):\n",
        "    super(LNET, self).__init__()\n",
        "    self.cnn1 = nn.Conv2d(1, 8, 3, 1, 1)\n",
        "    self.bnm1 = nn.BatchNorm2d(8)\n",
        "    self.relu = nn.ReLU()\n",
        "    self.maxpool = nn.MaxPool2d(2)\n",
        "    self.cnn2 = nn.Conv2d(8, 32, 5, 1, 2)\n",
        "    self.bnm2 = nn.BatchNorm2d(32)\n",
        "    self.fc1 = nn.Linear(1568, 600)\n",
        "    self.droupout = nn.Dropout(0.4)\n",
        "    self.fc2 = nn.Linear(600, 10)\n",
        "\n",
        "  def forward(self, x):\n",
        "    out = self.maxpool(self.relu(self.bnm1(self.cnn1(x))))\n",
        "    out = self.maxpool(self.relu(self.bnm2(self.cnn2(out))))\n",
        "\n",
        "    out = out.view(-1, 1568)\n",
        "    \n",
        "    out = self.fc1(out)\n",
        "    out = self.relu(out)\n",
        "    out = self.droupout(out)\n",
        "    out  = self.fc2(out)\n",
        "    return out"
      ],
      "execution_count": 0,
      "outputs": []
    },
    {
      "cell_type": "code",
      "metadata": {
        "id": "fw5IKtwFcg4I",
        "colab_type": "code",
        "colab": {}
      },
      "source": [
        "model = LNET()\n",
        "if torch.cuda.is_available():\n",
        "  model = model.cuda()\n",
        "loss_fn = nn.CrossEntropyLoss()\n",
        "optimizer = torch.optim.Adam(model.parameters())"
      ],
      "execution_count": 0,
      "outputs": []
    },
    {
      "cell_type": "code",
      "metadata": {
        "id": "NI6w5ZH33vGR",
        "colab_type": "code",
        "colab": {
          "base_uri": "https://localhost:8080/",
          "height": 1000
        },
        "outputId": "25b62cbe-d63d-4231-8c53-2c6dc59e195f"
      },
      "source": [
        "iteration = 0\n",
        "correct = 0\n",
        "\n",
        "\n",
        "for i,(inputs,labels) in enumerate (train_loader):\n",
        "\n",
        "    if torch.cuda.is_available:\n",
        "        inputs = inputs.cuda()\n",
        "        labels = labels.cuda()\n",
        "        \n",
        "    print(\"For one iteration, this is what happens:\")\n",
        "    print(\"Input Shape:\",inputs.shape)\n",
        "    print(\"Input dtype:\",inputs.dtype)\n",
        "    print(\"inputs\", inputs)\n",
        "\n",
        "    print(\"Labels Shape:\",labels.shape)\n",
        "    print(\"Labels dtype:\",labels.dtype)\n",
        "    print(\"labels\", labels)\n",
        "\n",
        "    output = model(inputs)\n",
        "    print(\"Outputs Shape\",output.shape)\n",
        "    print(\"Outputs dtype\",output.dtype)\n",
        "\n",
        "    loss = loss_fn(output, labels)\n",
        "    print(loss)\n",
        "    print(loss.item())\n",
        "\n",
        "\n",
        "    _, predicted = torch.max(output, 1)\n",
        "    print(\"Predicted Shape\",predicted.shape)\n",
        "    print(\"Predicted dtype\",predicted.dtype)\n",
        "\n",
        "    print(\"Predicted Tensor:\")\n",
        "    print(predicted)\n",
        "    correct += (predicted == labels).sum()\n",
        "\n",
        "    break"
      ],
      "execution_count": 13,
      "outputs": [
        {
          "output_type": "stream",
          "text": [
            "For one iteration, this is what happens:\n",
            "Input Shape: torch.Size([200, 1, 28, 28])\n",
            "Input dtype: torch.float32\n",
            "inputs tensor([[[[-0.4486, -0.4486, -0.4486,  ..., -0.4486, -0.4486, -0.4486],\n",
            "          [-0.4486, -0.4486, -0.4486,  ..., -0.4486, -0.4486, -0.4486],\n",
            "          [-0.4486, -0.4486, -0.4486,  ..., -0.4486, -0.4486, -0.4486],\n",
            "          ...,\n",
            "          [-0.4486, -0.4486, -0.4486,  ..., -0.4486, -0.4486, -0.4486],\n",
            "          [-0.4486, -0.4486, -0.4486,  ..., -0.4486, -0.4486, -0.4486],\n",
            "          [-0.4486, -0.4486, -0.4486,  ..., -0.4486, -0.4486, -0.4486]]],\n",
            "\n",
            "\n",
            "        [[[-0.4486, -0.4486, -0.4486,  ..., -0.4486, -0.4486, -0.4486],\n",
            "          [-0.4486, -0.4486, -0.4486,  ..., -0.4486, -0.4486, -0.4486],\n",
            "          [-0.4486, -0.4486, -0.4486,  ..., -0.4486, -0.4486, -0.4486],\n",
            "          ...,\n",
            "          [-0.4486, -0.4486, -0.4486,  ..., -0.4486, -0.4486, -0.4486],\n",
            "          [-0.4486, -0.4486, -0.4486,  ..., -0.4486, -0.4486, -0.4486],\n",
            "          [-0.4486, -0.4486, -0.4486,  ..., -0.4486, -0.4486, -0.4486]]],\n",
            "\n",
            "\n",
            "        [[[-0.4486, -0.4486, -0.4486,  ..., -0.4486, -0.4486, -0.4486],\n",
            "          [-0.4486, -0.4486, -0.4486,  ..., -0.4486, -0.4486, -0.4486],\n",
            "          [-0.4486, -0.4486, -0.4486,  ..., -0.4486, -0.4486, -0.4486],\n",
            "          ...,\n",
            "          [-0.4486, -0.4486, -0.4486,  ..., -0.4486, -0.4486, -0.4486],\n",
            "          [-0.4486, -0.4486, -0.4486,  ..., -0.4486, -0.4486, -0.4486],\n",
            "          [-0.4486, -0.4486, -0.4486,  ..., -0.4486, -0.4486, -0.4486]]],\n",
            "\n",
            "\n",
            "        ...,\n",
            "\n",
            "\n",
            "        [[[-0.4486, -0.4486, -0.4486,  ..., -0.4486, -0.4486, -0.4486],\n",
            "          [-0.4486, -0.4486, -0.4486,  ..., -0.4486, -0.4486, -0.4486],\n",
            "          [-0.4486, -0.4486, -0.4486,  ..., -0.4486, -0.4486, -0.4486],\n",
            "          ...,\n",
            "          [-0.4486, -0.4486, -0.4486,  ..., -0.4486, -0.4486, -0.4486],\n",
            "          [-0.4486, -0.4486, -0.4486,  ..., -0.4486, -0.4486, -0.4486],\n",
            "          [-0.4486, -0.4486, -0.4486,  ..., -0.4486, -0.4486, -0.4486]]],\n",
            "\n",
            "\n",
            "        [[[-0.4486, -0.4486, -0.4486,  ..., -0.4486, -0.4486, -0.4486],\n",
            "          [-0.4486, -0.4486, -0.4486,  ..., -0.4486, -0.4486, -0.4486],\n",
            "          [-0.4486, -0.4486, -0.4486,  ..., -0.4486, -0.4486, -0.4486],\n",
            "          ...,\n",
            "          [-0.4486, -0.4486, -0.4486,  ..., -0.4486, -0.4486, -0.4486],\n",
            "          [-0.4486, -0.4486, -0.4486,  ..., -0.4486, -0.4486, -0.4486],\n",
            "          [-0.4486, -0.4486, -0.4486,  ..., -0.4486, -0.4486, -0.4486]]],\n",
            "\n",
            "\n",
            "        [[[-0.4486, -0.4486, -0.4486,  ..., -0.4486, -0.4486, -0.4486],\n",
            "          [-0.4486, -0.4486, -0.4486,  ..., -0.4486, -0.4486, -0.4486],\n",
            "          [-0.4486, -0.4486, -0.4486,  ..., -0.4486, -0.4486, -0.4486],\n",
            "          ...,\n",
            "          [-0.4486, -0.4486, -0.4486,  ..., -0.4486, -0.4486, -0.4486],\n",
            "          [-0.4486, -0.4486, -0.4486,  ..., -0.4486, -0.4486, -0.4486],\n",
            "          [-0.4486, -0.4486, -0.4486,  ..., -0.4486, -0.4486, -0.4486]]]],\n",
            "       device='cuda:0')\n",
            "Labels Shape: torch.Size([200])\n",
            "Labels dtype: torch.int64\n",
            "labels tensor([4, 8, 6, 6, 3, 7, 9, 7, 2, 3, 0, 1, 5, 2, 5, 8, 9, 8, 6, 4, 7, 7, 9, 6,\n",
            "        6, 2, 1, 9, 0, 2, 7, 4, 3, 7, 1, 8, 2, 2, 0, 4, 7, 2, 4, 1, 6, 6, 7, 1,\n",
            "        3, 3, 8, 4, 8, 6, 2, 5, 7, 6, 4, 7, 5, 1, 8, 8, 1, 7, 5, 5, 9, 6, 0, 3,\n",
            "        2, 7, 4, 9, 6, 5, 8, 6, 7, 4, 7, 1, 1, 9, 2, 9, 1, 2, 1, 3, 0, 7, 3, 5,\n",
            "        8, 7, 6, 8, 7, 9, 8, 9, 8, 6, 1, 4, 2, 9, 0, 3, 4, 1, 4, 4, 1, 7, 0, 4,\n",
            "        2, 2, 7, 2, 8, 4, 4, 6, 1, 7, 3, 4, 8, 6, 2, 0, 1, 9, 0, 9, 9, 1, 2, 4,\n",
            "        9, 3, 4, 4, 3, 2, 3, 3, 7, 6, 7, 2, 6, 5, 8, 8, 4, 7, 8, 4, 7, 0, 9, 5,\n",
            "        0, 2, 4, 6, 2, 6, 1, 9, 5, 4, 7, 3, 5, 1, 1, 5, 1, 1, 8, 9, 8, 5, 6, 8,\n",
            "        9, 4, 1, 0, 5, 3, 5, 2], device='cuda:0')\n",
            "Outputs Shape torch.Size([200, 10])\n",
            "Outputs dtype torch.float32\n",
            "tensor(2.3147, device='cuda:0', grad_fn=<NllLossBackward>)\n",
            "2.31473708152771\n",
            "Predicted Shape torch.Size([200])\n",
            "Predicted dtype torch.int64\n",
            "Predicted Tensor:\n",
            "tensor([2, 1, 8, 8, 1, 2, 7, 9, 1, 6, 7, 8, 1, 3, 8, 8, 7, 1, 1, 8, 9, 7, 8, 8,\n",
            "        8, 8, 6, 7, 9, 7, 2, 1, 8, 7, 7, 7, 6, 2, 1, 7, 6, 1, 6, 6, 6, 8, 7, 9,\n",
            "        8, 7, 7, 7, 9, 7, 6, 8, 8, 2, 9, 7, 1, 7, 1, 8, 2, 8, 8, 1, 7, 8, 1, 8,\n",
            "        8, 1, 9, 2, 1, 7, 6, 6, 8, 8, 7, 6, 8, 9, 0, 6, 9, 8, 0, 6, 9, 8, 8, 8,\n",
            "        8, 7, 8, 8, 7, 7, 7, 2, 8, 8, 8, 7, 8, 2, 6, 8, 8, 8, 6, 8, 6, 2, 6, 9,\n",
            "        1, 1, 1, 2, 9, 7, 9, 6, 1, 2, 6, 8, 2, 2, 1, 2, 8, 8, 8, 6, 2, 8, 6, 7,\n",
            "        0, 9, 6, 6, 9, 6, 7, 8, 6, 1, 7, 8, 1, 6, 7, 9, 2, 1, 8, 9, 2, 0, 8, 9,\n",
            "        3, 6, 8, 1, 2, 2, 7, 8, 8, 8, 6, 5, 2, 6, 2, 8, 8, 8, 7, 6, 1, 6, 7, 1,\n",
            "        8, 1, 0, 7, 6, 6, 8, 6], device='cuda:0')\n"
          ],
          "name": "stdout"
        }
      ]
    },
    {
      "cell_type": "code",
      "metadata": {
        "id": "R--hQs22d5r_",
        "colab_type": "code",
        "colab": {
          "base_uri": "https://localhost:8080/",
          "height": 202
        },
        "outputId": "11e07c05-5219-4ce5-aa35-82beee681860"
      },
      "source": [
        "num_epochs = 5\n",
        "train_loss = []\n",
        "test_loss = []\n",
        "train_accuracy = []\n",
        "test_accuracy = []\n",
        "\n",
        "for epoch in range(num_epochs):\n",
        "  iteration = 0\n",
        "  correct = 0\n",
        "  inter_loss = 0\n",
        "\n",
        "  #model train Start\n",
        "  model.train()\n",
        "\n",
        "  for i, (inputs, labels) in enumerate(train_loader):\n",
        "    if torch.cuda.is_available():\n",
        "      inputs = inputs.cuda()\n",
        "      labels = labels.cuda()\n",
        "\n",
        "    outputs = model(inputs)\n",
        "    loss = loss_fn(outputs, labels)\n",
        "    \n",
        "    optimizer.zero_grad()\n",
        "    loss.backward()\n",
        "    optimizer.step()\n",
        "\n",
        "    # iter_loss += loss.item()\n",
        "    _, predicted = torch.max(outputs, 1)\n",
        "    correct += (predicted == labels).sum()\n",
        "    iteration += 1\n",
        "\n",
        "  train_accuracy.append((100*correct / len(train_dataset)))\n",
        "  print('Epoch {}/{}, Training Accuracy: {:.3f}'.format(epoch+1, num_epochs, train_accuracy[-1]))\n",
        "\n",
        "#model test Start\n",
        "  iteration = 0\n",
        "  correct = 0\n",
        "  test_accuracy = []\n",
        "\n",
        "  model.eval()\n",
        "\n",
        "  for i, (inputs, labels) in enumerate(test_loader):\n",
        "    if torch.cuda.is_available():\n",
        "      inputs = inputs.cuda()\n",
        "      labels = labels.cuda()\n",
        "\n",
        "    outputs = model(inputs)\n",
        "    loss = loss_fn(outputs, labels)\n",
        "    \n",
        "    optimizer.zero_grad()\n",
        "    loss.backward()\n",
        "    optimizer.step()\n",
        "\n",
        "    # iter_loss += loss.item()\n",
        "    _, predicted = torch.max(outputs, 1)\n",
        "    correct += (predicted == labels).sum()\n",
        "    iteration += 1\n",
        "\n",
        "  test_accuracy.append((100*correct / len(test_dataset)))\n",
        "  print('Epoch {}/{}, Test Accuracy: {:.3f}'.format(epoch+1, num_epochs, test_accuracy[-1]))\n",
        "\n",
        "print(\"training done\")"
      ],
      "execution_count": 14,
      "outputs": [
        {
          "output_type": "stream",
          "text": [
            "Epoch 1/5, Training Accuracy: 93.000\n",
            "Epoch 1/5, Test Accuracy: 97.000\n",
            "Epoch 2/5, Training Accuracy: 97.000\n",
            "Epoch 2/5, Test Accuracy: 98.000\n",
            "Epoch 3/5, Training Accuracy: 98.000\n",
            "Epoch 3/5, Test Accuracy: 99.000\n",
            "Epoch 4/5, Training Accuracy: 98.000\n",
            "Epoch 4/5, Test Accuracy: 99.000\n",
            "Epoch 5/5, Training Accuracy: 98.000\n",
            "Epoch 5/5, Test Accuracy: 99.000\n",
            "training done\n"
          ],
          "name": "stdout"
        }
      ]
    },
    {
      "cell_type": "code",
      "metadata": {
        "id": "weUGyKde-hgG",
        "colab_type": "code",
        "colab": {
          "base_uri": "https://localhost:8080/",
          "height": 592
        },
        "outputId": "31425372-d77f-4117-a1e5-f8cd1898779a"
      },
      "source": [
        "# Accuracy\n",
        "f = plt.figure(figsize=(10, 10))\n",
        "plt.plot(train_accuracy, label='Training Accuracy')\n",
        "plt.plot(test_accuracy, label='Testing Accuracy')\n",
        "plt.legend()\n",
        "plt.show()"
      ],
      "execution_count": 15,
      "outputs": [
        {
          "output_type": "display_data",
          "data": {
            "image/png": "[encoded data removed]",
            "text/plain": [
              "<Figure size 720x720 with 1 Axes>"
            ]
          },
          "metadata": {
            "tags": []
          }
        }
      ]
    },
    {
      "cell_type": "code",
      "metadata": {
        "id": "CHhoVJhc_ovY",
        "colab_type": "code",
        "colab": {
          "base_uri": "https://localhost:8080/",
          "height": 202
        },
        "outputId": "4effbcca-d858-4a93-8caf-a3b8f4cfb175"
      },
      "source": [
        "print(model)"
      ],
      "execution_count": 17,
      "outputs": [
        {
          "output_type": "stream",
          "text": [
            "LNET(\n",
            "  (cnn1): Conv2d(1, 8, kernel_size=(3, 3), stride=(1, 1), padding=(1, 1))\n",
            "  (bnm1): BatchNorm2d(8, eps=1e-05, momentum=0.1, affine=True, track_running_stats=True)\n",
            "  (relu): ReLU()\n",
            "  (maxpool): MaxPool2d(kernel_size=2, stride=2, padding=0, dilation=1, ceil_mode=False)\n",
            "  (cnn2): Conv2d(8, 32, kernel_size=(5, 5), stride=(1, 1), padding=(2, 2))\n",
            "  (bnm2): BatchNorm2d(32, eps=1e-05, momentum=0.1, affine=True, track_running_stats=True)\n",
            "  (fc1): Linear(in_features=1568, out_features=600, bias=True)\n",
            "  (droupout): Dropout(p=0.4, inplace=False)\n",
            "  (fc2): Linear(in_features=600, out_features=10, bias=True)\n",
            ")\n"
          ],
          "name": "stdout"
        }
      ]
    },
    {
      "cell_type": "code",
      "metadata": {
        "id": "Cb7Qp08TZgLO",
        "colab_type": "code",
        "colab": {
          "base_uri": "https://localhost:8080/",
          "height": 202
        },
        "outputId": "55490591-17b8-4165-8623-d2758b334415"
      },
      "source": [
        "model.parameters"
      ],
      "execution_count": 18,
      "outputs": [
        {
          "output_type": "execute_result",
          "data": {
            "text/plain": [
              "<bound method Module.parameters of LNET(\n",
              "  (cnn1): Conv2d(1, 8, kernel_size=(3, 3), stride=(1, 1), padding=(1, 1))\n",
              "  (bnm1): BatchNorm2d(8, eps=1e-05, momentum=0.1, affine=True, track_running_stats=True)\n",
              "  (relu): ReLU()\n",
              "  (maxpool): MaxPool2d(kernel_size=2, stride=2, padding=0, dilation=1, ceil_mode=False)\n",
              "  (cnn2): Conv2d(8, 32, kernel_size=(5, 5), stride=(1, 1), padding=(2, 2))\n",
              "  (bnm2): BatchNorm2d(32, eps=1e-05, momentum=0.1, affine=True, track_running_stats=True)\n",
              "  (fc1): Linear(in_features=1568, out_features=600, bias=True)\n",
              "  (droupout): Dropout(p=0.4, inplace=False)\n",
              "  (fc2): Linear(in_features=600, out_features=10, bias=True)\n",
              ")>"
            ]
          },
          "metadata": {
            "tags": []
          },
          "execution_count": 18
        }
      ]
    },
    {
      "cell_type": "code",
      "metadata": {
        "id": "x5glniJ2angJ",
        "colab_type": "code",
        "colab": {
          "base_uri": "https://localhost:8080/",
          "height": 50
        },
        "outputId": "41e41729-ab94-4a02-ec9d-7fc5da5ac41a"
      },
      "source": [
        "print(model.fc2.in_features)\n",
        "print(model.cnn2.in_channels)"
      ],
      "execution_count": 20,
      "outputs": [
        {
          "output_type": "stream",
          "text": [
            "600\n",
            "8\n"
          ],
          "name": "stdout"
        }
      ]
    },
    {
      "cell_type": "code",
      "metadata": {
        "id": "B8dGhEdybUNM",
        "colab_type": "code",
        "colab": {}
      },
      "source": [
        "model.fc2 = nn.Linear(model.fc2.in_features, 3) #modify last layer of network"
      ],
      "execution_count": 0,
      "outputs": []
    },
    {
      "cell_type": "code",
      "metadata": {
        "id": "-Z6N-iAvcbMw",
        "colab_type": "code",
        "colab": {
          "base_uri": "https://localhost:8080/",
          "height": 202
        },
        "outputId": "b5193031-9e7b-4a40-875e-222cb4f2adf5"
      },
      "source": [
        "print(model)"
      ],
      "execution_count": 22,
      "outputs": [
        {
          "output_type": "stream",
          "text": [
            "LNET(\n",
            "  (cnn1): Conv2d(1, 8, kernel_size=(3, 3), stride=(1, 1), padding=(1, 1))\n",
            "  (bnm1): BatchNorm2d(8, eps=1e-05, momentum=0.1, affine=True, track_running_stats=True)\n",
            "  (relu): ReLU()\n",
            "  (maxpool): MaxPool2d(kernel_size=2, stride=2, padding=0, dilation=1, ceil_mode=False)\n",
            "  (cnn2): Conv2d(8, 32, kernel_size=(5, 5), stride=(1, 1), padding=(2, 2))\n",
            "  (bnm2): BatchNorm2d(32, eps=1e-05, momentum=0.1, affine=True, track_running_stats=True)\n",
            "  (fc1): Linear(in_features=1568, out_features=600, bias=True)\n",
            "  (droupout): Dropout(p=0.4, inplace=False)\n",
            "  (fc2): Linear(in_features=600, out_features=3, bias=True)\n",
            ")\n"
          ],
          "name": "stdout"
        }
      ]
    },
    {
      "cell_type": "code",
      "metadata": {
        "id": "lP5SEZRRccul",
        "colab_type": "code",
        "colab": {}
      },
      "source": [
        ""
      ],
      "execution_count": 0,
      "outputs": []
    }
  ]
}